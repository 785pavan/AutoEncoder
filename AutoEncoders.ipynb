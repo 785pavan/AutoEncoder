{
  "nbformat": 4,
  "nbformat_minor": 0,
  "metadata": {
    "colab": {
      "name": "exe08IDL.ipynb",
      "provenance": [],
      "collapsed_sections": [],
      "toc_visible": true
    },
    "kernelspec": {
      "name": "python3",
      "display_name": "Python 3"
    },
    "accelerator": "GPU"
  },
  "cells": [
    {
      "cell_type": "code",
      "metadata": {
        "id": "6ZHmSOQhfxqJ",
        "colab_type": "code",
        "outputId": "282d5f82-7010-4158-89f8-a9e2c7e44846",
        "colab": {
          "base_uri": "https://localhost:8080/",
          "height": 50
        }
      },
      "source": [
        "%tensorflow_version 2.x\n",
        "import tensorflow as tf\n",
        "tf.__version__"
      ],
      "execution_count": 0,
      "outputs": [
        {
          "output_type": "stream",
          "text": [
            "TensorFlow 2.x selected.\n"
          ],
          "name": "stdout"
        },
        {
          "output_type": "execute_result",
          "data": {
            "text/plain": [
              "'2.0.0'"
            ]
          },
          "metadata": {
            "tags": []
          },
          "execution_count": 1
        }
      ]
    },
    {
      "cell_type": "markdown",
      "metadata": {
        "id": "WPYZHHH6f97V",
        "colab_type": "text"
      },
      "source": [
        "#Autoencoders in Tensorflow"
      ]
    },
    {
      "cell_type": "code",
      "metadata": {
        "id": "PfurXbzA1iDt",
        "colab_type": "code",
        "outputId": "edd8143e-4f28-4696-814c-805bdb19c04f",
        "colab": {
          "base_uri": "https://localhost:8080/",
          "height": 121
        }
      },
      "source": [
        "from google.colab import drive\n",
        "drive.mount('/content/drive')"
      ],
      "execution_count": 0,
      "outputs": [
        {
          "output_type": "stream",
          "text": [
            "Go to this URL in a browser: https://accounts.google.com/o/oauth2/auth?client_id=947318989803-6bn6qk8qdgf4n4g3pfee6491hc0brc4i.apps.googleusercontent.com&redirect_uri=urn%3aietf%3awg%3aoauth%3a2.0%3aoob&response_type=code&scope=email%20https%3a%2f%2fwww.googleapis.com%2fauth%2fdocs.test%20https%3a%2f%2fwww.googleapis.com%2fauth%2fdrive%20https%3a%2f%2fwww.googleapis.com%2fauth%2fdrive.photos.readonly%20https%3a%2f%2fwww.googleapis.com%2fauth%2fpeopleapi.readonly\n",
            "\n",
            "Enter your authorization code:\n",
            "··········\n",
            "Mounted at /content/drive\n"
          ],
          "name": "stdout"
        }
      ]
    },
    {
      "cell_type": "code",
      "metadata": {
        "id": "DltnMHPlpU2o",
        "colab_type": "code",
        "colab": {}
      },
      "source": [
        "import numpy as np\n",
        "import matplotlib.pyplot as plt\n",
        "import os\n",
        "os.chdir('/content/drive/My Drive/Colab Notebooks')\n",
        "from datasets import MNISTDataset"
      ],
      "execution_count": 0,
      "outputs": []
    },
    {
      "cell_type": "code",
      "metadata": {
        "id": "_d0DRMNRf5tF",
        "colab_type": "code",
        "outputId": "89085704-300b-4faf-b046-7a3834b0bec8",
        "colab": {
          "base_uri": "https://localhost:8080/",
          "height": 399
        }
      },
      "source": [
        "fashion_mnist = tf.keras.datasets.fashion_mnist\n",
        "(train_images, train_labels), (test_images, test_labels) = fashion_mnist.load_data()\n",
        "plt.imshow(train_images[15], cmap='Greys_r')\n",
        "data = MNISTDataset(train_images.reshape([-1, 784]), train_labels,\n",
        "                    test_images.reshape([-1, 784]), test_labels,\n",
        "                    batch_size = 128)"
      ],
      "execution_count": 0,
      "outputs": [
        {
          "output_type": "stream",
          "text": [
            "Downloading data from https://storage.googleapis.com/tensorflow/tf-keras-datasets/train-labels-idx1-ubyte.gz\n",
            "32768/29515 [=================================] - 0s 0us/step\n",
            "Downloading data from https://storage.googleapis.com/tensorflow/tf-keras-datasets/train-images-idx3-ubyte.gz\n",
            "26427392/26421880 [==============================] - 0s 0us/step\n",
            "Downloading data from https://storage.googleapis.com/tensorflow/tf-keras-datasets/t10k-labels-idx1-ubyte.gz\n",
            "8192/5148 [===============================================] - 0s 0us/step\n",
            "Downloading data from https://storage.googleapis.com/tensorflow/tf-keras-datasets/t10k-images-idx3-ubyte.gz\n",
            "4423680/4422102 [==============================] - 0s 0us/step\n"
          ],
          "name": "stdout"
        },
        {
          "output_type": "display_data",
          "data": {
            "image/png": "[encoded data removed]",
            "text/plain": [
              "<Figure size 432x288 with 1 Axes>"
            ]
          },
          "metadata": {
            "tags": []
          }
        }
      ]
    },
    {
      "cell_type": "code",
      "metadata": {
        "id": "pR1Nmu1ekco0",
        "colab_type": "code",
        "outputId": "7e738089-a449-4b27-c84c-f2d17322f6e9",
        "colab": {
          "base_uri": "https://localhost:8080/",
          "height": 265
        }
      },
      "source": [
        "plt.imshow(train_images[15], cmap='inferno');"
      ],
      "execution_count": 0,
      "outputs": [
        {
          "output_type": "display_data",
          "data": {
            "image/png": "[encoded data removed]",
            "text/plain": [
              "<Figure size 432x288 with 1 Axes>"
            ]
          },
          "metadata": {
            "tags": []
          }
        }
      ]
    },
    {
      "cell_type": "code",
      "metadata": {
        "id": "quncYNQGskmJ",
        "colab_type": "code",
        "outputId": "0f24edb8-d2e3-4212-d097-0b627b3638fb",
        "colab": {
          "base_uri": "https://localhost:8080/",
          "height": 34
        }
      },
      "source": [
        "train_images.shape"
      ],
      "execution_count": 0,
      "outputs": [
        {
          "output_type": "execute_result",
          "data": {
            "text/plain": [
              "(60000, 28, 28)"
            ]
          },
          "metadata": {
            "tags": []
          },
          "execution_count": 7
        }
      ]
    },
    {
      "cell_type": "code",
      "metadata": {
        "id": "dfBg_0-Flhax",
        "colab_type": "code",
        "colab": {}
      },
      "source": [
        "num_inputs=784    #28x28 pixels\n",
        "num_hid1=392\n",
        "num_hid2=196\n",
        "num_hid3=num_hid1\n",
        "num_output=num_inputs\n",
        "lr=0.01\n",
        "actf=tf.nn.relu\n",
        "num_epoch=5\n",
        "batch_size=128\n",
        "num_test_images=10\n",
        "num_batches=train_images.shape[0]//batch_size"
      ],
      "execution_count": 0,
      "outputs": []
    },
    {
      "cell_type": "code",
      "metadata": {
        "id": "pdCY_ZcBnWlt",
        "colab_type": "code",
        "colab": {}
      },
      "source": [
        "initializer=tf.keras.initializers.VarianceScaling()\n",
        "\n",
        "\n",
        "w1=tf.Variable(initializer([num_inputs,num_hid1]),dtype=tf.float32)\n",
        "w2=tf.Variable(initializer([num_hid1,num_hid2]),dtype=tf.float32)\n",
        "w3=tf.Variable(initializer([num_hid2,num_hid3]),dtype=tf.float32)\n",
        "w4=tf.Variable(initializer([num_hid3,num_output]),dtype=tf.float32)\n",
        "\n",
        "b1=tf.Variable(tf.zeros(num_hid1))\n",
        "b2=tf.Variable(tf.zeros(num_hid2))\n",
        "b3=tf.Variable(tf.zeros(num_hid3))\n",
        "b4=tf.Variable(tf.zeros(num_output))"
      ],
      "execution_count": 0,
      "outputs": []
    },
    {
      "cell_type": "code",
      "metadata": {
        "id": "9FEgVQyip4KC",
        "colab_type": "code",
        "colab": {}
      },
      "source": [
        "var_list = [w1, w2, w3, w4, b1, b2, b3, b4]"
      ],
      "execution_count": 0,
      "outputs": []
    },
    {
      "cell_type": "code",
      "metadata": {
        "id": "sZdSCk_GnYHv",
        "colab_type": "code",
        "outputId": "f0da55b1-8461-4b59-e08f-25c35ab9a345",
        "colab": {
          "base_uri": "https://localhost:8080/",
          "height": 874
        }
      },
      "source": [
        "losses = []\n",
        "accs = []\n",
        "import statistics\n",
        "for step in range(num_batches*num_epoch):\n",
        "  img_batch, lbl_batch = data.next_batch()\n",
        "  with tf.GradientTape() as tape:\n",
        "    layer_1 = actf(tf.matmul(img_batch, w1) + b1)\n",
        "    layer_2 = actf(tf.matmul(layer_1, w2) + b2)\n",
        "    layer_3 = actf(tf.matmul(layer_2, w3) + b3)\n",
        "    output_layer = actf(tf.matmul(layer_3, w4) + b4)\n",
        "    xent = tf.reduce_mean(tf.square(output_layer-img_batch))\n",
        "  grads = tape.gradient(xent, var_list)\n",
        "  optimizer = tf.keras.optimizers.Adam(learning_rate=lr)\n",
        "  optimizer.apply_gradients(zip(grads,var_list))\n",
        "  if not step % 50:\n",
        "    #preds = tf.argmax(output_layer, axis=1, output_type=tf.int32)\n",
        "    acc = np.max(tf.reduce_mean(tf.cast(tf.equal(output_layer, img_batch),\n",
        "                                  tf.float32), 0))\n",
        "    losses.append(xent)\n",
        "    accs.append(acc)\n",
        "    print('Loss: {} Accuracy: {}'.format(xent, acc))"
      ],
      "execution_count": 0,
      "outputs": [
        {
          "output_type": "stream",
          "text": [
            "Loss: 0.16973070800304413 Accuracy: 1.0\n",
            "Loss: 0.1322236955165863 Accuracy: 0.9921875\n",
            "Loss: 0.08103738725185394 Accuracy: 1.0\n",
            "Loss: 0.09020812809467316 Accuracy: 1.0\n",
            "Loss: 0.07456273585557938 Accuracy: 1.0\n",
            "Loss: 0.06210959330201149 Accuracy: 1.0\n",
            "Loss: 0.10039564222097397 Accuracy: 1.0\n",
            "Loss: 0.07919536530971527 Accuracy: 1.0\n",
            "Loss: 0.06938701868057251 Accuracy: 1.0\n",
            "Loss: 0.09273836761713028 Accuracy: 1.0\n",
            "Starting new epoch...\n",
            "Loss: 0.06673742830753326 Accuracy: 1.0\n",
            "Loss: 0.05284341424703598 Accuracy: 1.0\n",
            "Loss: 0.04591871425509453 Accuracy: 1.0\n",
            "Loss: 0.06660725176334381 Accuracy: 1.0\n",
            "Loss: 0.07451321929693222 Accuracy: 1.0\n",
            "Loss: 0.09945488721132278 Accuracy: 1.0\n",
            "Loss: 0.06148461997509003 Accuracy: 1.0\n",
            "Loss: 0.054459571838378906 Accuracy: 1.0\n",
            "Loss: 0.05793730169534683 Accuracy: 1.0\n",
            "Starting new epoch...\n",
            "Loss: 0.06883405148983002 Accuracy: 1.0\n",
            "Loss: 0.0716312974691391 Accuracy: 1.0\n",
            "Loss: 0.06039050966501236 Accuracy: 1.0\n",
            "Loss: 0.08481056988239288 Accuracy: 1.0\n",
            "Loss: 0.06422130018472672 Accuracy: 1.0\n",
            "Loss: 0.0636659562587738 Accuracy: 1.0\n",
            "Loss: 0.09543343633413315 Accuracy: 1.0\n",
            "Loss: 0.07783852517604828 Accuracy: 1.0\n",
            "Loss: 0.10383810102939606 Accuracy: 1.0\n",
            "Loss: 0.07116018235683441 Accuracy: 1.0\n",
            "Starting new epoch...\n",
            "Loss: 0.06470302492380142 Accuracy: 1.0\n",
            "Loss: 0.05374523997306824 Accuracy: 1.0\n",
            "Loss: 0.07753461599349976 Accuracy: 1.0\n",
            "Loss: 0.05538687855005264 Accuracy: 1.0\n",
            "Loss: 0.046335142105817795 Accuracy: 1.0\n",
            "Loss: 0.05412082374095917 Accuracy: 1.0\n",
            "Loss: 0.04948606342077255 Accuracy: 1.0\n",
            "Loss: 0.06558040529489517 Accuracy: 1.0\n",
            "Loss: 0.09540354460477829 Accuracy: 1.0\n",
            "Starting new epoch...\n",
            "Loss: 0.15833237767219543 Accuracy: 1.0\n",
            "Loss: 0.11201485991477966 Accuracy: 1.0\n",
            "Loss: 0.07940827310085297 Accuracy: 1.0\n",
            "Loss: 0.06966524571180344 Accuracy: 1.0\n",
            "Loss: 0.11359414458274841 Accuracy: 1.0\n",
            "Loss: 0.10680259019136429 Accuracy: 1.0\n",
            "Loss: 0.058799613267183304 Accuracy: 1.0\n",
            "Loss: 0.08411773294210434 Accuracy: 1.0\n",
            "Loss: 0.13067194819450378 Accuracy: 1.0\n"
          ],
          "name": "stdout"
        }
      ]
    },
    {
      "cell_type": "code",
      "metadata": {
        "id": "RrbIacsyqFDG",
        "colab_type": "code",
        "outputId": "b69b5107-c33f-4b37-bb72-dfd3b6cf1747",
        "colab": {
          "base_uri": "https://localhost:8080/",
          "height": 34
        }
      },
      "source": [
        "tf.reduce_mean(tf.cast(tf.equal([1,2,3],[1,3,5]), tf.float32))"
      ],
      "execution_count": 0,
      "outputs": [
        {
          "output_type": "execute_result",
          "data": {
            "text/plain": [
              "<tf.Tensor: id=655526, shape=(), dtype=float32, numpy=0.33333334>"
            ]
          },
          "metadata": {
            "tags": []
          },
          "execution_count": 12
        }
      ]
    },
    {
      "cell_type": "code",
      "metadata": {
        "id": "xOgPLxHNyg2O",
        "colab_type": "code",
        "outputId": "7cb14d37-07a5-4a84-9e6a-888146b83135",
        "colab": {
          "base_uri": "https://localhost:8080/",
          "height": 34
        }
      },
      "source": [
        "data.next_batch()[0].shape"
      ],
      "execution_count": 0,
      "outputs": [
        {
          "output_type": "execute_result",
          "data": {
            "text/plain": [
              "(128, 784)"
            ]
          },
          "metadata": {
            "tags": []
          },
          "execution_count": 13
        }
      ]
    },
    {
      "cell_type": "code",
      "metadata": {
        "id": "w9Gp_M8D4j2i",
        "colab_type": "code",
        "outputId": "909d7725-bf72-4ed2-dbaa-31e37caf01e2",
        "colab": {
          "base_uri": "https://localhost:8080/",
          "height": 134
        }
      },
      "source": [
        "data.test_data"
      ],
      "execution_count": 0,
      "outputs": [
        {
          "output_type": "execute_result",
          "data": {
            "text/plain": [
              "array([[0., 0., 0., ..., 0., 0., 0.],\n",
              "       [0., 0., 0., ..., 0., 0., 0.],\n",
              "       [0., 0., 0., ..., 0., 0., 0.],\n",
              "       ...,\n",
              "       [0., 0., 0., ..., 0., 0., 0.],\n",
              "       [0., 0., 0., ..., 0., 0., 0.],\n",
              "       [0., 0., 0., ..., 0., 0., 0.]], dtype=float32)"
            ]
          },
          "metadata": {
            "tags": []
          },
          "execution_count": 14
        }
      ]
    },
    {
      "cell_type": "code",
      "metadata": {
        "id": "Z25U0vbau-p4",
        "colab_type": "code",
        "outputId": "3d303cac-1a99-42b0-cec2-2d7e9c8b4fc7",
        "colab": {
          "base_uri": "https://localhost:8080/",
          "height": 300
        }
      },
      "source": [
        "f,a=plt.subplots(2,10,figsize=(20,4))\n",
        "for i in range(num_test_images):\n",
        "  test_layer_1 = tf.add(tf.matmul(data.next_batch()[0], w1), b1)\n",
        "  test_layer_2 = tf.add(tf.matmul(test_layer_1,w2), b2)\n",
        "  test_layer_3 = tf.add(tf.matmul(test_layer_2, w3), b3)\n",
        "  test_out = tf.matmul(test_layer_3, w4) + b4\n",
        "  a[0][i].imshow(np.reshape(data.next_batch()[0][i],(28,28)), cmap='inferno')\n",
        "  a[1][i].imshow(np.reshape(test_out[i],(28,28)), cmap='inferno')\n",
        "\n"
      ],
      "execution_count": 0,
      "outputs": [
        {
          "output_type": "stream",
          "text": [
            "Starting new epoch...\n"
          ],
          "name": "stdout"
        },
        {
          "output_type": "display_data",
          "data": {
            "image/png": "[encoded data removed]",
            "text/plain": [
              "<Figure size 1440x288 with 20 Axes>"
            ]
          },
          "metadata": {
            "tags": []
          }
        }
      ]
    },
    {
      "cell_type": "markdown",
      "metadata": {
        "id": "6QhdeGiz33hX",
        "colab_type": "text"
      },
      "source": [
        "# Convolutional Autoencoders"
      ]
    },
    {
      "cell_type": "code",
      "metadata": {
        "id": "tZ6exqdpyRcz",
        "colab_type": "code",
        "outputId": "8b74dd8f-10f6-41a0-c2b7-f8f9e24dcd40",
        "colab": {
          "base_uri": "https://localhost:8080/",
          "height": 265
        }
      },
      "source": [
        "fashion_mnist = tf.keras.datasets.fashion_mnist\n",
        "(train_images, train_labels), (test_images, test_labels) = fashion_mnist.load_data()\n",
        "plt.imshow(train_images[94], cmap='Greys_r');"
      ],
      "execution_count": 0,
      "outputs": [
        {
          "output_type": "display_data",
          "data": {
            "image/png": "[encoded data removed]",
            "text/plain": [
              "<Figure size 432x288 with 1 Axes>"
            ]
          },
          "metadata": {
            "tags": []
          }
        }
      ]
    },
    {
      "cell_type": "code",
      "metadata": {
        "id": "qMHMDSvGDH7t",
        "colab_type": "code",
        "outputId": "1097b558-4c8f-4365-d965-0911632fcc31",
        "colab": {
          "base_uri": "https://localhost:8080/",
          "height": 34
        }
      },
      "source": [
        "train_images.shape"
      ],
      "execution_count": 0,
      "outputs": [
        {
          "output_type": "execute_result",
          "data": {
            "text/plain": [
              "(60000, 28, 28)"
            ]
          },
          "metadata": {
            "tags": []
          },
          "execution_count": 6
        }
      ]
    },
    {
      "cell_type": "code",
      "metadata": {
        "id": "61FY3jr0Dk6D",
        "colab_type": "code",
        "outputId": "eb4e7b72-4317-4039-9ab9-c2452724ad1a",
        "colab": {
          "base_uri": "https://localhost:8080/",
          "height": 34
        }
      },
      "source": [
        "train_images = train_images.reshape(-1,28,28,1)\n",
        "test_images  = test_images.reshape(-1,28,28,1)\n",
        "train_images.shape"
      ],
      "execution_count": 0,
      "outputs": [
        {
          "output_type": "execute_result",
          "data": {
            "text/plain": [
              "(60000, 28, 28, 1)"
            ]
          },
          "metadata": {
            "tags": []
          },
          "execution_count": 7
        }
      ]
    },
    {
      "cell_type": "code",
      "metadata": {
        "id": "SWu3XlkJD5eY",
        "colab_type": "code",
        "outputId": "eb88b5e7-0648-485c-99fa-efb7f941fbfe",
        "colab": {
          "base_uri": "https://localhost:8080/",
          "height": 34
        }
      },
      "source": [
        "train_images.dtype"
      ],
      "execution_count": 0,
      "outputs": [
        {
          "output_type": "execute_result",
          "data": {
            "text/plain": [
              "dtype('uint8')"
            ]
          },
          "metadata": {
            "tags": []
          },
          "execution_count": 8
        }
      ]
    },
    {
      "cell_type": "code",
      "metadata": {
        "id": "kjVleLoKD-mb",
        "colab_type": "code",
        "colab": {}
      },
      "source": [
        "train_images = train_images/255\n",
        "test_images = test_images/255"
      ],
      "execution_count": 0,
      "outputs": []
    },
    {
      "cell_type": "code",
      "metadata": {
        "id": "lnKTSIWgEWkf",
        "colab_type": "code",
        "outputId": "92877563-a649-40bb-9b58-d3bbce6a0ce4",
        "colab": {
          "base_uri": "https://localhost:8080/",
          "height": 34
        }
      },
      "source": [
        "train_images.dtype"
      ],
      "execution_count": 0,
      "outputs": [
        {
          "output_type": "execute_result",
          "data": {
            "text/plain": [
              "dtype('float64')"
            ]
          },
          "metadata": {
            "tags": []
          },
          "execution_count": 10
        }
      ]
    },
    {
      "cell_type": "code",
      "metadata": {
        "id": "5k7FQXoLEYok",
        "colab_type": "code",
        "colab": {}
      },
      "source": [
        "train_images = train_images.astype(np.float32)\n",
        "test_images = test_images.astype(np.float32)"
      ],
      "execution_count": 0,
      "outputs": []
    },
    {
      "cell_type": "code",
      "metadata": {
        "id": "Y0EiFr6REqzG",
        "colab_type": "code",
        "outputId": "cecec674-b252-4e07-d521-25d32cec3f6b",
        "colab": {
          "base_uri": "https://localhost:8080/",
          "height": 34
        }
      },
      "source": [
        "train_images.dtype"
      ],
      "execution_count": 0,
      "outputs": [
        {
          "output_type": "execute_result",
          "data": {
            "text/plain": [
              "dtype('float32')"
            ]
          },
          "metadata": {
            "tags": []
          },
          "execution_count": 12
        }
      ]
    },
    {
      "cell_type": "code",
      "metadata": {
        "id": "qE8ZD3q3EsB5",
        "colab_type": "code",
        "colab": {}
      },
      "source": [
        "from sklearn.model_selection import train_test_split\n",
        "train_X,valid_X,train_ground,valid_ground = train_test_split(train_images,\n",
        "                                                             train_images,\n",
        "                                                             test_size=0.2,\n",
        "                                                             random_state=42)"
      ],
      "execution_count": 0,
      "outputs": []
    },
    {
      "cell_type": "code",
      "metadata": {
        "id": "6WhWgCkEE9-j",
        "colab_type": "code",
        "colab": {}
      },
      "source": [
        "batch_size = 128\n",
        "epochs = 200\n",
        "inChannel = 1\n",
        "x, y = 28, 28\n",
        "input_img = tf.keras.layers.Input(shape = (x, y, inChannel))\n",
        "num_classes = 10"
      ],
      "execution_count": 0,
      "outputs": []
    },
    {
      "cell_type": "code",
      "metadata": {
        "id": "X5yvUFitFud_",
        "colab_type": "code",
        "colab": {}
      },
      "source": [
        "from tensorflow.keras.layers import Conv2D\n",
        "from tensorflow.keras.layers import BatchNormalization\n",
        "from tensorflow.keras.layers import MaxPool2D\n",
        "from tensorflow.keras.layers import UpSampling2D"
      ],
      "execution_count": 0,
      "outputs": []
    },
    {
      "cell_type": "code",
      "metadata": {
        "id": "c-VdhNzRFP2e",
        "colab_type": "code",
        "colab": {}
      },
      "source": [
        "def encoder(input_img):\n",
        "\n",
        "  #input: 28*28*1\n",
        "  conv1 = Conv2D(32,(3,3), activation='relu', padding='same')(input_img) #28*28*32\n",
        "  conv1 = BatchNormalization()(conv1)\n",
        "  conv1 = Conv2D(32, (3,3), activation='relu', padding='same')(conv1)\n",
        "  conv1 = BatchNormalization()(conv1)\n",
        "  pool1 = MaxPool2D(pool_size=(2,2))(conv1)#14*14*32\n",
        "  conv2 = Conv2D(64, (3,3), activation='relu', padding='same')(pool1)#14*14*64\n",
        "  conv2 = BatchNormalization()(conv2)\n",
        "  conv2 = Conv2D(64, (3,3), activation='relu', padding='same')(conv2)\n",
        "  conv2 = BatchNormalization()(conv2)\n",
        "  pool2 = MaxPool2D(pool_size=(2,2))(conv2)#7*7*64\n",
        "  conv3 = Conv2D(128, (3,3), activation='relu', padding='same')(pool2)#7*7*128\n",
        "  conv3 = BatchNormalization()(conv3)\n",
        "  conv3 = Conv2D(128, (3,3), activation='relu', padding='same')(conv3)\n",
        "  conv3 = BatchNormalization()(conv3)\n",
        "  conv4 = Conv2D(256, (3, 3), activation='relu', padding='same')(conv3)#7*7*256\n",
        "  conv4 = BatchNormalization()(conv4)\n",
        "  conv4 = Conv2D(256, (3, 3), activation='relu', padding='same')(conv4)\n",
        "  encoded = BatchNormalization()(conv4)\n",
        "\n",
        "  return encoded"
      ],
      "execution_count": 0,
      "outputs": []
    },
    {
      "cell_type": "code",
      "metadata": {
        "id": "4OkIePWQIbzi",
        "colab_type": "code",
        "colab": {}
      },
      "source": [
        "def decoder(encoded):\n",
        "\n",
        "  conv5 = Conv2D(128, (3,3), activation='relu', padding='same')(encoded)#7*7*128\n",
        "  conv5 = BatchNormalization()(conv5)\n",
        "  conv5 = Conv2D(128, (3,3), activation='relu', padding='same')(conv5)\n",
        "  conv5 = BatchNormalization()(conv5)\n",
        "  up1 = UpSampling2D((2,2))(conv5)#14*14*128\n",
        "  conv6 = Conv2D(64, (3,3), activation='relu', padding='same')(up1)#14*14*64\n",
        "  conv6 = BatchNormalization()(conv6)\n",
        "  conv6 = Conv2D(64, (3,3), activation='relu', padding='same')(conv6)\n",
        "  conv6 = BatchNormalization()(conv6)\n",
        "  up2 = UpSampling2D((2,2))(conv6)#28*28*64\n",
        "  conv7 = Conv2D(32, (3,3), activation='relu', padding='same')(up2)#28*28*32\n",
        "  conv7 = BatchNormalization()(conv7)\n",
        "  conv7 = Conv2D(32, (3,3), activation='relu', padding='same')(conv7)\n",
        "  conv7 = BatchNormalization()(conv7)\n",
        "  decoded = Conv2D(1, (3,3), activation='sigmoid', padding='same')(conv7)#28*28*1\n",
        "\n",
        "  return decoded"
      ],
      "execution_count": 0,
      "outputs": []
    },
    {
      "cell_type": "code",
      "metadata": {
        "id": "YeOyRJw6Kie9",
        "colab_type": "code",
        "outputId": "789c5085-976c-4e24-98f3-7636144aa8e4",
        "colab": {
          "base_uri": "https://localhost:8080/",
          "height": 1000
        }
      },
      "source": [
        "autoencoder = tf.keras.Model(input_img, decoder(encoder(input_img)))\n",
        "autoencoder.compile(loss='mean_squared_error', optimizer=tf.keras.optimizers.RMSprop(learning_rate=0.001))\n",
        "autoencoder.summary()"
      ],
      "execution_count": 0,
      "outputs": [
        {
          "output_type": "stream",
          "text": [
            "Model: \"model\"\n",
            "_________________________________________________________________\n",
            "Layer (type)                 Output Shape              Param #   \n",
            "=================================================================\n",
            "input_1 (InputLayer)         [(None, 28, 28, 1)]       0         \n",
            "_________________________________________________________________\n",
            "conv2d (Conv2D)              (None, 28, 28, 32)        320       \n",
            "_________________________________________________________________\n",
            "batch_normalization (BatchNo (None, 28, 28, 32)        128       \n",
            "_________________________________________________________________\n",
            "conv2d_1 (Conv2D)            (None, 28, 28, 32)        9248      \n",
            "_________________________________________________________________\n",
            "batch_normalization_1 (Batch (None, 28, 28, 32)        128       \n",
            "_________________________________________________________________\n",
            "max_pooling2d (MaxPooling2D) (None, 14, 14, 32)        0         \n",
            "_________________________________________________________________\n",
            "conv2d_2 (Conv2D)            (None, 14, 14, 64)        18496     \n",
            "_________________________________________________________________\n",
            "batch_normalization_2 (Batch (None, 14, 14, 64)        256       \n",
            "_________________________________________________________________\n",
            "conv2d_3 (Conv2D)            (None, 14, 14, 64)        36928     \n",
            "_________________________________________________________________\n",
            "batch_normalization_3 (Batch (None, 14, 14, 64)        256       \n",
            "_________________________________________________________________\n",
            "max_pooling2d_1 (MaxPooling2 (None, 7, 7, 64)          0         \n",
            "_________________________________________________________________\n",
            "conv2d_4 (Conv2D)            (None, 7, 7, 128)         73856     \n",
            "_________________________________________________________________\n",
            "batch_normalization_4 (Batch (None, 7, 7, 128)         512       \n",
            "_________________________________________________________________\n",
            "conv2d_5 (Conv2D)            (None, 7, 7, 128)         147584    \n",
            "_________________________________________________________________\n",
            "batch_normalization_5 (Batch (None, 7, 7, 128)         512       \n",
            "_________________________________________________________________\n",
            "conv2d_6 (Conv2D)            (None, 7, 7, 256)         295168    \n",
            "_________________________________________________________________\n",
            "batch_normalization_6 (Batch (None, 7, 7, 256)         1024      \n",
            "_________________________________________________________________\n",
            "conv2d_7 (Conv2D)            (None, 7, 7, 256)         590080    \n",
            "_________________________________________________________________\n",
            "batch_normalization_7 (Batch (None, 7, 7, 256)         1024      \n",
            "_________________________________________________________________\n",
            "conv2d_8 (Conv2D)            (None, 7, 7, 128)         295040    \n",
            "_________________________________________________________________\n",
            "batch_normalization_8 (Batch (None, 7, 7, 128)         512       \n",
            "_________________________________________________________________\n",
            "conv2d_9 (Conv2D)            (None, 7, 7, 128)         147584    \n",
            "_________________________________________________________________\n",
            "batch_normalization_9 (Batch (None, 7, 7, 128)         512       \n",
            "_________________________________________________________________\n",
            "up_sampling2d (UpSampling2D) (None, 14, 14, 128)       0         \n",
            "_________________________________________________________________\n",
            "conv2d_10 (Conv2D)           (None, 14, 14, 64)        73792     \n",
            "_________________________________________________________________\n",
            "batch_normalization_10 (Batc (None, 14, 14, 64)        256       \n",
            "_________________________________________________________________\n",
            "conv2d_11 (Conv2D)           (None, 14, 14, 64)        36928     \n",
            "_________________________________________________________________\n",
            "batch_normalization_11 (Batc (None, 14, 14, 64)        256       \n",
            "_________________________________________________________________\n",
            "up_sampling2d_1 (UpSampling2 (None, 28, 28, 64)        0         \n",
            "_________________________________________________________________\n",
            "conv2d_12 (Conv2D)           (None, 28, 28, 32)        18464     \n",
            "_________________________________________________________________\n",
            "batch_normalization_12 (Batc (None, 28, 28, 32)        128       \n",
            "_________________________________________________________________\n",
            "conv2d_13 (Conv2D)           (None, 28, 28, 32)        9248      \n",
            "_________________________________________________________________\n",
            "batch_normalization_13 (Batc (None, 28, 28, 32)        128       \n",
            "_________________________________________________________________\n",
            "conv2d_14 (Conv2D)           (None, 28, 28, 1)         289       \n",
            "=================================================================\n",
            "Total params: 1,758,657\n",
            "Trainable params: 1,755,841\n",
            "Non-trainable params: 2,816\n",
            "_________________________________________________________________\n"
          ],
          "name": "stdout"
        }
      ]
    },
    {
      "cell_type": "code",
      "metadata": {
        "id": "3jA7J_HiNk7K",
        "colab_type": "code",
        "outputId": "37052dc7-dc59-483d-f305-9a23e50f77ec",
        "colab": {
          "base_uri": "https://localhost:8080/",
          "height": 34
        }
      },
      "source": [
        "earlystop_callback = tf.keras.callbacks.EarlyStopping(\n",
        "  monitor='val_loss', min_delta=0.001,\n",
        "  patience=5)\n",
        "checkpoint_path = \"training_2/cp-{epoch:04d}.ckpt\"\n",
        "checkpoint_dir = os.path.dirname(checkpoint_path)\n",
        "cp_callback = tf.keras.callbacks.ModelCheckpoint(\n",
        "    filepath=checkpoint_path, \n",
        "    verbose=1, \n",
        "    save_weights_only=True,\n",
        "    period=5)\n",
        "autoencoder.save_weights(checkpoint_path.format(epoch=0))"
      ],
      "execution_count": 0,
      "outputs": [
        {
          "output_type": "stream",
          "text": [
            "WARNING:tensorflow:`period` argument is deprecated. Please use `save_freq` to specify the frequency in number of samples seen.\n"
          ],
          "name": "stdout"
        }
      ]
    },
    {
      "cell_type": "code",
      "metadata": {
        "id": "CROe7RXPLFPQ",
        "colab_type": "code",
        "outputId": "5174f2fb-4d0c-4880-b30d-1c6037cf1bbb",
        "colab": {
          "base_uri": "https://localhost:8080/",
          "height": 706
        }
      },
      "source": [
        "autoencoder_train = autoencoder.fit(train_X, train_ground, batch_size=batch_size, epochs=epochs, verbose=1, validation_data=(valid_X, valid_ground), use_multiprocessing=True, callbacks=[earlystop_callback, cp_callback])"
      ],
      "execution_count": 0,
      "outputs": [
        {
          "output_type": "stream",
          "text": [
            "Train on 48000 samples, validate on 12000 samples\n",
            "Epoch 1/200\n",
            "48000/48000 [==============================] - 17s 362us/sample - loss: 0.0246 - val_loss: 0.0229\n",
            "Epoch 2/200\n",
            "48000/48000 [==============================] - 11s 227us/sample - loss: 0.0093 - val_loss: 0.0115\n",
            "Epoch 3/200\n",
            "48000/48000 [==============================] - 11s 233us/sample - loss: 0.0068 - val_loss: 0.0087\n",
            "Epoch 4/200\n",
            "48000/48000 [==============================] - 11s 236us/sample - loss: 0.0055 - val_loss: 0.0068\n",
            "Epoch 5/200\n",
            "47744/48000 [============================>.] - ETA: 0s - loss: 0.0047\n",
            "Epoch 00005: saving model to training_2/cp-0005.ckpt\n",
            "48000/48000 [==============================] - 12s 242us/sample - loss: 0.0047 - val_loss: 0.0052\n",
            "Epoch 6/200\n",
            "48000/48000 [==============================] - 11s 237us/sample - loss: 0.0042 - val_loss: 0.0056\n",
            "Epoch 7/200\n",
            "48000/48000 [==============================] - 11s 236us/sample - loss: 0.0040 - val_loss: 0.0039\n",
            "Epoch 8/200\n",
            "48000/48000 [==============================] - 11s 236us/sample - loss: 0.0037 - val_loss: 0.0032\n",
            "Epoch 9/200\n",
            "48000/48000 [==============================] - 11s 236us/sample - loss: 0.0035 - val_loss: 0.0049\n",
            "Epoch 10/200\n",
            "47744/48000 [============================>.] - ETA: 0s - loss: 0.0032\n",
            "Epoch 00010: saving model to training_2/cp-0010.ckpt\n",
            "48000/48000 [==============================] - 12s 243us/sample - loss: 0.0032 - val_loss: 0.0042\n",
            "Epoch 11/200\n",
            "48000/48000 [==============================] - 11s 237us/sample - loss: 0.0030 - val_loss: 0.0035\n",
            "Epoch 12/200\n",
            "48000/48000 [==============================] - 11s 234us/sample - loss: 0.0028 - val_loss: 0.0027\n",
            "Epoch 13/200\n",
            "48000/48000 [==============================] - 11s 234us/sample - loss: 0.0026 - val_loss: 0.0027\n",
            "Epoch 14/200\n",
            "48000/48000 [==============================] - 11s 234us/sample - loss: 0.0025 - val_loss: 0.0026\n",
            "Epoch 15/200\n",
            "47744/48000 [============================>.] - ETA: 0s - loss: 0.0024\n",
            "Epoch 00015: saving model to training_2/cp-0015.ckpt\n",
            "48000/48000 [==============================] - 12s 244us/sample - loss: 0.0024 - val_loss: 0.0025\n",
            "Epoch 16/200\n",
            "48000/48000 [==============================] - 11s 233us/sample - loss: 0.0023 - val_loss: 0.0037\n",
            "Epoch 17/200\n",
            "48000/48000 [==============================] - 11s 231us/sample - loss: 0.0022 - val_loss: 0.0040\n"
          ],
          "name": "stdout"
        }
      ]
    },
    {
      "cell_type": "code",
      "metadata": {
        "id": "WLOlH9piLhy9",
        "colab_type": "code",
        "outputId": "025854ac-c620-4d4a-d8a1-b900f45d62a0",
        "colab": {
          "base_uri": "https://localhost:8080/",
          "height": 281
        }
      },
      "source": [
        "loss = autoencoder_train.history['loss']\n",
        "val_loss = autoencoder_train.history['val_loss']\n",
        "epochs = range(17)\n",
        "plt.figure()\n",
        "plt.plot(epochs, loss, 'bo', label='Training loss')\n",
        "plt.plot(epochs, val_loss, 'b', label='Validation loss')\n",
        "plt.title('Training and validation loss')\n",
        "plt.legend()\n",
        "plt.show()"
      ],
      "execution_count": 0,
      "outputs": [
        {
          "output_type": "display_data",
          "data": {
            "image/png": "[encoded data removed]",
            "text/plain": [
              "<Figure size 432x288 with 1 Axes>"
            ]
          },
          "metadata": {
            "tags": []
          }
        }
      ]
    },
    {
      "cell_type": "code",
      "metadata": {
        "id": "632hzoowP-Gs",
        "colab_type": "code",
        "colab": {}
      },
      "source": [
        "autoencoder.save_weights('autoencoder.h5')"
      ],
      "execution_count": 0,
      "outputs": []
    },
    {
      "cell_type": "code",
      "metadata": {
        "id": "rn-klkd-QF_r",
        "colab_type": "code",
        "outputId": "24eac7cb-60c4-4ada-ed31-4fbb3a4ac6a9",
        "colab": {
          "base_uri": "https://localhost:8080/",
          "height": 50
        }
      },
      "source": [
        "train_y_one_hot = tf.keras.utils.to_categorical(train_labels)\n",
        "test_y_one_hot = tf.keras.utils.to_categorical(test_labels)\n",
        "print('Original label:', train_labels[0])\n",
        "print('After conversion to one-hot:', train_y_one_hot[0])"
      ],
      "execution_count": 0,
      "outputs": [
        {
          "output_type": "stream",
          "text": [
            "Original label: 9\n",
            "After conversion to one-hot: [0. 0. 0. 0. 0. 0. 0. 0. 0. 1.]\n"
          ],
          "name": "stdout"
        }
      ]
    },
    {
      "cell_type": "code",
      "metadata": {
        "id": "WZn6x8KUQerV",
        "colab_type": "code",
        "colab": {}
      },
      "source": [
        "train_X, valid_X, train_label, valid_label = train_test_split(train_images, train_y_one_hot, test_size=0.2, random_state =42)"
      ],
      "execution_count": 0,
      "outputs": []
    },
    {
      "cell_type": "code",
      "metadata": {
        "id": "GiEh4rjxRByy",
        "colab_type": "code",
        "outputId": "43cff14a-01f0-4c59-d9fa-915e8c42f7ed",
        "colab": {
          "base_uri": "https://localhost:8080/",
          "height": 34
        }
      },
      "source": [
        "train_X.shape,valid_X.shape,train_label.shape,valid_label.shape"
      ],
      "execution_count": 0,
      "outputs": [
        {
          "output_type": "execute_result",
          "data": {
            "text/plain": [
              "((48000, 28, 28, 1), (12000, 28, 28, 1), (48000, 10), (12000, 10))"
            ]
          },
          "metadata": {
            "tags": []
          },
          "execution_count": 26
        }
      ]
    },
    {
      "cell_type": "code",
      "metadata": {
        "id": "6ByuvaTxREI6",
        "colab_type": "code",
        "colab": {}
      },
      "source": [
        "def classifier(encoder):\n",
        "  flat = tf.keras.layers.Flatten()(encoder)\n",
        "  dense = tf.keras.layers.Dense(128, activation='relu')(flat)\n",
        "  output = tf.keras.layers.Dense(10, activation='softmax')(dense)\n",
        "  return output"
      ],
      "execution_count": 0,
      "outputs": []
    },
    {
      "cell_type": "code",
      "metadata": {
        "id": "kYG5p5FRRyn5",
        "colab_type": "code",
        "outputId": "17537557-86ee-4cda-e4cb-34b419ab348a",
        "colab": {
          "base_uri": "https://localhost:8080/",
          "height": 890
        }
      },
      "source": [
        "full_model = tf.keras.Model(input_img, classifier(encoder(input_img)))\n",
        "full_model.summary()"
      ],
      "execution_count": 0,
      "outputs": [
        {
          "output_type": "stream",
          "text": [
            "Model: \"model_1\"\n",
            "_________________________________________________________________\n",
            "Layer (type)                 Output Shape              Param #   \n",
            "=================================================================\n",
            "input_1 (InputLayer)         [(None, 28, 28, 1)]       0         \n",
            "_________________________________________________________________\n",
            "conv2d_15 (Conv2D)           (None, 28, 28, 32)        320       \n",
            "_________________________________________________________________\n",
            "batch_normalization_14 (Batc (None, 28, 28, 32)        128       \n",
            "_________________________________________________________________\n",
            "conv2d_16 (Conv2D)           (None, 28, 28, 32)        9248      \n",
            "_________________________________________________________________\n",
            "batch_normalization_15 (Batc (None, 28, 28, 32)        128       \n",
            "_________________________________________________________________\n",
            "max_pooling2d_2 (MaxPooling2 (None, 14, 14, 32)        0         \n",
            "_________________________________________________________________\n",
            "conv2d_17 (Conv2D)           (None, 14, 14, 64)        18496     \n",
            "_________________________________________________________________\n",
            "batch_normalization_16 (Batc (None, 14, 14, 64)        256       \n",
            "_________________________________________________________________\n",
            "conv2d_18 (Conv2D)           (None, 14, 14, 64)        36928     \n",
            "_________________________________________________________________\n",
            "batch_normalization_17 (Batc (None, 14, 14, 64)        256       \n",
            "_________________________________________________________________\n",
            "max_pooling2d_3 (MaxPooling2 (None, 7, 7, 64)          0         \n",
            "_________________________________________________________________\n",
            "conv2d_19 (Conv2D)           (None, 7, 7, 128)         73856     \n",
            "_________________________________________________________________\n",
            "batch_normalization_18 (Batc (None, 7, 7, 128)         512       \n",
            "_________________________________________________________________\n",
            "conv2d_20 (Conv2D)           (None, 7, 7, 128)         147584    \n",
            "_________________________________________________________________\n",
            "batch_normalization_19 (Batc (None, 7, 7, 128)         512       \n",
            "_________________________________________________________________\n",
            "conv2d_21 (Conv2D)           (None, 7, 7, 256)         295168    \n",
            "_________________________________________________________________\n",
            "batch_normalization_20 (Batc (None, 7, 7, 256)         1024      \n",
            "_________________________________________________________________\n",
            "conv2d_22 (Conv2D)           (None, 7, 7, 256)         590080    \n",
            "_________________________________________________________________\n",
            "batch_normalization_21 (Batc (None, 7, 7, 256)         1024      \n",
            "_________________________________________________________________\n",
            "flatten (Flatten)            (None, 12544)             0         \n",
            "_________________________________________________________________\n",
            "dense (Dense)                (None, 128)               1605760   \n",
            "_________________________________________________________________\n",
            "dense_1 (Dense)              (None, 10)                1290      \n",
            "=================================================================\n",
            "Total params: 2,782,570\n",
            "Trainable params: 2,780,650\n",
            "Non-trainable params: 1,920\n",
            "_________________________________________________________________\n"
          ],
          "name": "stdout"
        }
      ]
    },
    {
      "cell_type": "code",
      "metadata": {
        "id": "h3ujkNhTSEaU",
        "colab_type": "code",
        "colab": {}
      },
      "source": [
        "for l1, l2 in zip(full_model.layers[:19], autoencoder.layers[:19]):\n",
        "  l1.set_weights(l2.get_weights())"
      ],
      "execution_count": 0,
      "outputs": []
    },
    {
      "cell_type": "code",
      "metadata": {
        "id": "dxiTpHssSdBM",
        "colab_type": "code",
        "outputId": "caa9987a-34b0-4eb9-fd84-11c6f107e870",
        "colab": {
          "base_uri": "https://localhost:8080/",
          "height": 470
        }
      },
      "source": [
        "autoencoder.get_weights()[0][1]"
      ],
      "execution_count": 0,
      "outputs": [
        {
          "output_type": "execute_result",
          "data": {
            "text/plain": [
              "array([[[-0.05577348, -0.10240553, -0.09659852, -0.1499719 ,\n",
              "         -0.10426863, -0.02127098,  0.04702003,  0.26282513,\n",
              "         -0.08381062,  0.08043855,  0.21900518,  0.17290774,\n",
              "         -0.10331271, -0.16997449, -0.16763806,  0.14632782,\n",
              "          0.091447  ,  0.13719478, -0.01104592, -0.16368861,\n",
              "         -0.0759581 , -0.07427561,  0.03438068,  0.07329029,\n",
              "          0.24440393, -0.19582458,  0.11837205, -0.1399517 ,\n",
              "         -0.19600886, -0.23573712,  0.26670155,  0.07164657]],\n",
              "\n",
              "       [[-0.03314157,  0.17254037, -0.13442223, -0.14828995,\n",
              "         -0.08122984,  0.10871153, -0.1816084 ,  0.16593692,\n",
              "         -0.00074772,  0.0780149 , -0.10352901,  0.17093763,\n",
              "         -0.0523723 , -0.04546723,  0.1737024 ,  0.10905728,\n",
              "         -0.07001639, -0.10520458, -0.1787321 , -0.19391802,\n",
              "         -0.10475504, -0.13470343,  0.20507056, -0.02399815,\n",
              "          0.1222737 , -0.10143912,  0.09067205, -0.09189558,\n",
              "         -0.0288685 , -0.2266957 , -0.08261821,  0.10866864]],\n",
              "\n",
              "       [[-0.12692869,  0.1139328 ,  0.1395307 , -0.0935048 ,\n",
              "          0.1453616 , -0.01747944,  0.1518087 , -0.07111883,\n",
              "         -0.02720412, -0.09786899, -0.22914791,  0.00364667,\n",
              "          0.21173507,  0.15040511,  0.0508878 ,  0.1152899 ,\n",
              "         -0.15344098,  0.02655258, -0.17249314, -0.10322159,\n",
              "         -0.06278864, -0.0374147 ,  0.1112    ,  0.02040115,\n",
              "         -0.0881092 , -0.0197092 , -0.08815169, -0.14047126,\n",
              "         -0.07054505, -0.07674146,  0.14277434, -0.05615864]]],\n",
              "      dtype=float32)"
            ]
          },
          "metadata": {
            "tags": []
          },
          "execution_count": 30
        }
      ]
    },
    {
      "cell_type": "code",
      "metadata": {
        "id": "7gXmM3-8Sgbk",
        "colab_type": "code",
        "outputId": "6f92b2cf-d089-4a3e-c42a-50fe2edc256d",
        "colab": {
          "base_uri": "https://localhost:8080/",
          "height": 470
        }
      },
      "source": [
        "full_model.get_weights()[0][1]"
      ],
      "execution_count": 0,
      "outputs": [
        {
          "output_type": "execute_result",
          "data": {
            "text/plain": [
              "array([[[-0.05577348, -0.10240553, -0.09659852, -0.1499719 ,\n",
              "         -0.10426863, -0.02127098,  0.04702003,  0.26282513,\n",
              "         -0.08381062,  0.08043855,  0.21900518,  0.17290774,\n",
              "         -0.10331271, -0.16997449, -0.16763806,  0.14632782,\n",
              "          0.091447  ,  0.13719478, -0.01104592, -0.16368861,\n",
              "         -0.0759581 , -0.07427561,  0.03438068,  0.07329029,\n",
              "          0.24440393, -0.19582458,  0.11837205, -0.1399517 ,\n",
              "         -0.19600886, -0.23573712,  0.26670155,  0.07164657]],\n",
              "\n",
              "       [[-0.03314157,  0.17254037, -0.13442223, -0.14828995,\n",
              "         -0.08122984,  0.10871153, -0.1816084 ,  0.16593692,\n",
              "         -0.00074772,  0.0780149 , -0.10352901,  0.17093763,\n",
              "         -0.0523723 , -0.04546723,  0.1737024 ,  0.10905728,\n",
              "         -0.07001639, -0.10520458, -0.1787321 , -0.19391802,\n",
              "         -0.10475504, -0.13470343,  0.20507056, -0.02399815,\n",
              "          0.1222737 , -0.10143912,  0.09067205, -0.09189558,\n",
              "         -0.0288685 , -0.2266957 , -0.08261821,  0.10866864]],\n",
              "\n",
              "       [[-0.12692869,  0.1139328 ,  0.1395307 , -0.0935048 ,\n",
              "          0.1453616 , -0.01747944,  0.1518087 , -0.07111883,\n",
              "         -0.02720412, -0.09786899, -0.22914791,  0.00364667,\n",
              "          0.21173507,  0.15040511,  0.0508878 ,  0.1152899 ,\n",
              "         -0.15344098,  0.02655258, -0.17249314, -0.10322159,\n",
              "         -0.06278864, -0.0374147 ,  0.1112    ,  0.02040115,\n",
              "         -0.0881092 , -0.0197092 , -0.08815169, -0.14047126,\n",
              "         -0.07054505, -0.07674146,  0.14277434, -0.05615864]]],\n",
              "      dtype=float32)"
            ]
          },
          "metadata": {
            "tags": []
          },
          "execution_count": 31
        }
      ]
    },
    {
      "cell_type": "code",
      "metadata": {
        "id": "xcZxoVBiSjsh",
        "colab_type": "code",
        "colab": {}
      },
      "source": [
        "for layer in full_model.layers[:19]:\n",
        "  layer.trainable = False"
      ],
      "execution_count": 0,
      "outputs": []
    },
    {
      "cell_type": "code",
      "metadata": {
        "id": "Au9-I6rMSuZK",
        "colab_type": "code",
        "outputId": "85560f9f-cb21-4e16-bb8f-3cd417a6a56b",
        "colab": {
          "base_uri": "https://localhost:8080/",
          "height": 890
        }
      },
      "source": [
        "full_model.summary()"
      ],
      "execution_count": 0,
      "outputs": [
        {
          "output_type": "stream",
          "text": [
            "Model: \"model_1\"\n",
            "_________________________________________________________________\n",
            "Layer (type)                 Output Shape              Param #   \n",
            "=================================================================\n",
            "input_1 (InputLayer)         [(None, 28, 28, 1)]       0         \n",
            "_________________________________________________________________\n",
            "conv2d_15 (Conv2D)           (None, 28, 28, 32)        320       \n",
            "_________________________________________________________________\n",
            "batch_normalization_14 (Batc (None, 28, 28, 32)        128       \n",
            "_________________________________________________________________\n",
            "conv2d_16 (Conv2D)           (None, 28, 28, 32)        9248      \n",
            "_________________________________________________________________\n",
            "batch_normalization_15 (Batc (None, 28, 28, 32)        128       \n",
            "_________________________________________________________________\n",
            "max_pooling2d_2 (MaxPooling2 (None, 14, 14, 32)        0         \n",
            "_________________________________________________________________\n",
            "conv2d_17 (Conv2D)           (None, 14, 14, 64)        18496     \n",
            "_________________________________________________________________\n",
            "batch_normalization_16 (Batc (None, 14, 14, 64)        256       \n",
            "_________________________________________________________________\n",
            "conv2d_18 (Conv2D)           (None, 14, 14, 64)        36928     \n",
            "_________________________________________________________________\n",
            "batch_normalization_17 (Batc (None, 14, 14, 64)        256       \n",
            "_________________________________________________________________\n",
            "max_pooling2d_3 (MaxPooling2 (None, 7, 7, 64)          0         \n",
            "_________________________________________________________________\n",
            "conv2d_19 (Conv2D)           (None, 7, 7, 128)         73856     \n",
            "_________________________________________________________________\n",
            "batch_normalization_18 (Batc (None, 7, 7, 128)         512       \n",
            "_________________________________________________________________\n",
            "conv2d_20 (Conv2D)           (None, 7, 7, 128)         147584    \n",
            "_________________________________________________________________\n",
            "batch_normalization_19 (Batc (None, 7, 7, 128)         512       \n",
            "_________________________________________________________________\n",
            "conv2d_21 (Conv2D)           (None, 7, 7, 256)         295168    \n",
            "_________________________________________________________________\n",
            "batch_normalization_20 (Batc (None, 7, 7, 256)         1024      \n",
            "_________________________________________________________________\n",
            "conv2d_22 (Conv2D)           (None, 7, 7, 256)         590080    \n",
            "_________________________________________________________________\n",
            "batch_normalization_21 (Batc (None, 7, 7, 256)         1024      \n",
            "_________________________________________________________________\n",
            "flatten (Flatten)            (None, 12544)             0         \n",
            "_________________________________________________________________\n",
            "dense (Dense)                (None, 128)               1605760   \n",
            "_________________________________________________________________\n",
            "dense_1 (Dense)              (None, 10)                1290      \n",
            "=================================================================\n",
            "Total params: 2,782,570\n",
            "Trainable params: 1,607,050\n",
            "Non-trainable params: 1,175,520\n",
            "_________________________________________________________________\n"
          ],
          "name": "stdout"
        }
      ]
    },
    {
      "cell_type": "code",
      "metadata": {
        "id": "-FXxe2BfSwmm",
        "colab_type": "code",
        "colab": {}
      },
      "source": [
        "full_model.compile(loss=tf.keras.losses.categorical_crossentropy, optimizer=tf.keras.optimizers.Adam(), metrics=['accuracy'])"
      ],
      "execution_count": 0,
      "outputs": []
    },
    {
      "cell_type": "code",
      "metadata": {
        "id": "wGG_DCLBTpZg",
        "colab_type": "code",
        "outputId": "264add11-814e-4627-9eb5-8d8825a6f424",
        "colab": {
          "base_uri": "https://localhost:8080/",
          "height": 34
        }
      },
      "source": [
        "earlystop_acc_callback = tf.keras.callbacks.EarlyStopping(\n",
        "  monitor='val_accuracy', min_delta=0.0001,\n",
        "  patience=5)\n",
        "checkpoint_path = \"training_classify/cp-{epoch:04d}.ckpt\"\n",
        "checkpoint_dir = os.path.dirname(checkpoint_path)\n",
        "cp_callback = tf.keras.callbacks.ModelCheckpoint(\n",
        "    filepath=checkpoint_path, \n",
        "    verbose=1, \n",
        "    save_weights_only=True,\n",
        "    period=5)\n",
        "full_model.save_weights(checkpoint_path.format(epoch=0))"
      ],
      "execution_count": 0,
      "outputs": [
        {
          "output_type": "stream",
          "text": [
            "WARNING:tensorflow:`period` argument is deprecated. Please use `save_freq` to specify the frequency in number of samples seen.\n"
          ],
          "name": "stdout"
        }
      ]
    },
    {
      "cell_type": "code",
      "metadata": {
        "id": "BruZXoUFTECG",
        "colab_type": "code",
        "outputId": "1ed42ce7-191c-4b48-b5a7-b501ba7c8177",
        "colab": {
          "base_uri": "https://localhost:8080/",
          "height": 538
        }
      },
      "source": [
        "classify_train = full_model.fit(train_X, train_label, batch_size=batch_size, epochs=200, verbose=1, validation_data=(valid_X, valid_label), use_multiprocessing=True, callbacks=[earlystop_acc_callback, cp_callback] )"
      ],
      "execution_count": 0,
      "outputs": [
        {
          "output_type": "stream",
          "text": [
            "Train on 48000 samples, validate on 12000 samples\n",
            "Epoch 1/200\n",
            "48000/48000 [==============================] - 6s 125us/sample - loss: 0.4076 - accuracy: 0.8653 - val_loss: 0.3151 - val_accuracy: 0.8846\n",
            "Epoch 2/200\n",
            "48000/48000 [==============================] - 4s 88us/sample - loss: 0.2336 - accuracy: 0.9131 - val_loss: 0.2758 - val_accuracy: 0.9032\n",
            "Epoch 3/200\n",
            "48000/48000 [==============================] - 4s 88us/sample - loss: 0.1834 - accuracy: 0.9317 - val_loss: 0.3005 - val_accuracy: 0.8985\n",
            "Epoch 4/200\n",
            "48000/48000 [==============================] - 4s 87us/sample - loss: 0.1551 - accuracy: 0.9411 - val_loss: 0.2819 - val_accuracy: 0.9060\n",
            "Epoch 5/200\n",
            "47488/48000 [============================>.] - ETA: 0s - loss: 0.1296 - accuracy: 0.9516\n",
            "Epoch 00005: saving model to training_classify/cp-0005.ckpt\n",
            "48000/48000 [==============================] - 4s 90us/sample - loss: 0.1296 - accuracy: 0.9516 - val_loss: 0.3070 - val_accuracy: 0.9007\n",
            "Epoch 6/200\n",
            "48000/48000 [==============================] - 4s 89us/sample - loss: 0.1113 - accuracy: 0.9576 - val_loss: 0.3267 - val_accuracy: 0.9078\n",
            "Epoch 7/200\n",
            "48000/48000 [==============================] - 4s 89us/sample - loss: 0.0988 - accuracy: 0.9630 - val_loss: 0.3557 - val_accuracy: 0.9078\n",
            "Epoch 8/200\n",
            "48000/48000 [==============================] - 4s 89us/sample - loss: 0.0852 - accuracy: 0.9676 - val_loss: 0.3617 - val_accuracy: 0.9080\n",
            "Epoch 9/200\n",
            "48000/48000 [==============================] - 4s 87us/sample - loss: 0.0711 - accuracy: 0.9732 - val_loss: 0.3845 - val_accuracy: 0.9062\n",
            "Epoch 10/200\n",
            "47488/48000 [============================>.] - ETA: 0s - loss: 0.0688 - accuracy: 0.9748\n",
            "Epoch 00010: saving model to training_classify/cp-0010.ckpt\n",
            "48000/48000 [==============================] - 4s 90us/sample - loss: 0.0691 - accuracy: 0.9747 - val_loss: 0.4121 - val_accuracy: 0.9035\n",
            "Epoch 11/200\n",
            "48000/48000 [==============================] - 4s 88us/sample - loss: 0.0645 - accuracy: 0.9757 - val_loss: 0.4201 - val_accuracy: 0.9043\n",
            "Epoch 12/200\n",
            "48000/48000 [==============================] - 4s 88us/sample - loss: 0.0544 - accuracy: 0.9797 - val_loss: 0.4434 - val_accuracy: 0.9037\n",
            "Epoch 13/200\n",
            "48000/48000 [==============================] - 4s 87us/sample - loss: 0.0503 - accuracy: 0.9811 - val_loss: 0.4460 - val_accuracy: 0.9078\n"
          ],
          "name": "stdout"
        }
      ]
    },
    {
      "cell_type": "code",
      "metadata": {
        "id": "to87YuJlT3z1",
        "colab_type": "code",
        "colab": {}
      },
      "source": [
        "full_model.save_weights('autoencoder_classification.h5')"
      ],
      "execution_count": 0,
      "outputs": []
    },
    {
      "cell_type": "code",
      "metadata": {
        "id": "-YiAAWhqVIUz",
        "colab_type": "code",
        "colab": {}
      },
      "source": [
        "test_eval = full_model.evaluate(test_images, test_y_one_hot, verbose=0)"
      ],
      "execution_count": 0,
      "outputs": []
    },
    {
      "cell_type": "code",
      "metadata": {
        "id": "XetfLTsDVWDT",
        "colab_type": "code",
        "outputId": "eddb712d-daf2-41d0-fa55-f0987dd6730c",
        "colab": {
          "base_uri": "https://localhost:8080/",
          "height": 50
        }
      },
      "source": [
        "print('Test loss:', test_eval[0])\n",
        "print('Test accuracy:', test_eval[1])"
      ],
      "execution_count": 0,
      "outputs": [
        {
          "output_type": "stream",
          "text": [
            "Test loss: 0.4845144014339894\n",
            "Test accuracy: 0.901\n"
          ],
          "name": "stdout"
        }
      ]
    },
    {
      "cell_type": "code",
      "metadata": {
        "id": "pxbRjn7bVZyC",
        "colab_type": "code",
        "colab": {}
      },
      "source": [
        "predicted_classes = full_model.predict(test_images)"
      ],
      "execution_count": 0,
      "outputs": []
    },
    {
      "cell_type": "code",
      "metadata": {
        "id": "b62zgwCMVcaW",
        "colab_type": "code",
        "colab": {}
      },
      "source": [
        "predicted_classes = np.argmax(np.round(predicted_classes),axis=1)"
      ],
      "execution_count": 0,
      "outputs": []
    },
    {
      "cell_type": "code",
      "metadata": {
        "id": "5SxWdVjMVhU7",
        "colab_type": "code",
        "outputId": "62ef8402-dc11-4604-f0fc-ce15df9f464c",
        "colab": {
          "base_uri": "https://localhost:8080/",
          "height": 34
        }
      },
      "source": [
        "predicted_classes.shape, test_labels.shape"
      ],
      "execution_count": 0,
      "outputs": [
        {
          "output_type": "execute_result",
          "data": {
            "text/plain": [
              "((10000,), (10000,))"
            ]
          },
          "metadata": {
            "tags": []
          },
          "execution_count": 51
        }
      ]
    },
    {
      "cell_type": "code",
      "metadata": {
        "id": "BNPsvG8CVikQ",
        "colab_type": "code",
        "outputId": "0c274c99-d90a-4795-9628-15b09f890188",
        "colab": {
          "base_uri": "https://localhost:8080/",
          "height": 314
        }
      },
      "source": [
        "correct = np.where(predicted_classes==test_labels)[0]\n",
        "print (\"Found {} correct labels\".format(len(correct)))\n",
        "for i, correct in enumerate(correct[:9]):\n",
        "    plt.subplot(3,3,i+1)\n",
        "    plt.imshow(test_images[correct].reshape(28,28), cmap='gray', interpolation='none')\n",
        "    plt.title(\"Predicted {}, Class {}\".format(predicted_classes[correct], test_labels[correct]))\n",
        "    plt.tight_layout()"
      ],
      "execution_count": 0,
      "outputs": [
        {
          "output_type": "stream",
          "text": [
            "Found 9002 correct labels\n"
          ],
          "name": "stdout"
        },
        {
          "output_type": "display_data",
          "data": {
            "image/png": "[encoded data removed]",
            "text/plain": [
              "<Figure size 432x288 with 9 Axes>"
            ]
          },
          "metadata": {
            "tags": []
          }
        }
      ]
    },
    {
      "cell_type": "code",
      "metadata": {
        "id": "oN3klMhvVkwg",
        "colab_type": "code",
        "outputId": "974a420e-d54e-481e-b2ec-01632109b056",
        "colab": {
          "base_uri": "https://localhost:8080/",
          "height": 314
        }
      },
      "source": [
        "incorrect = np.where(predicted_classes!=test_labels)[0]\n",
        "print (\"Found {} correct labels\".format(len(incorrect)))\n",
        "for i, incorrect in enumerate(incorrect[:9]):\n",
        "    plt.subplot(3,3,i+1)\n",
        "    plt.imshow(test_images[incorrect].reshape(28,28), cmap='gray', interpolation='none')\n",
        "    plt.title(\"Predicted {}, Class {}\".format(predicted_classes[incorrect], test_labels[incorrect]))\n",
        "    plt.tight_layout()"
      ],
      "execution_count": 0,
      "outputs": [
        {
          "output_type": "stream",
          "text": [
            "Found 998 correct labels\n"
          ],
          "name": "stdout"
        },
        {
          "output_type": "display_data",
          "data": {
            "image/png": "[encoded data removed]",
            "text/plain": [
              "<Figure size 432x288 with 9 Axes>"
            ]
          },
          "metadata": {
            "tags": []
          }
        }
      ]
    },
    {
      "cell_type": "code",
      "metadata": {
        "id": "P-ztjEZaWOMR",
        "colab_type": "code",
        "outputId": "28dbea34-ca92-4d3d-f5d9-474014727cf8",
        "colab": {
          "base_uri": "https://localhost:8080/",
          "height": 302
        }
      },
      "source": [
        "from sklearn.metrics import classification_report\n",
        "target_names = [\"Class {}\".format(i) for i in range(num_classes)]\n",
        "print(classification_report(test_labels,  , target_names=target_names))"
      ],
      "execution_count": 0,
      "outputs": [
        {
          "output_type": "stream",
          "text": [
            "              precision    recall  f1-score   support\n",
            "\n",
            "     Class 0       0.84      0.83      0.84      1000\n",
            "     Class 1       0.98      0.98      0.98      1000\n",
            "     Class 2       0.86      0.86      0.86      1000\n",
            "     Class 3       0.89      0.88      0.89      1000\n",
            "     Class 4       0.82      0.87      0.84      1000\n",
            "     Class 5       0.98      0.97      0.97      1000\n",
            "     Class 6       0.74      0.72      0.73      1000\n",
            "     Class 7       0.96      0.96      0.96      1000\n",
            "     Class 8       0.98      0.97      0.97      1000\n",
            "     Class 9       0.96      0.97      0.96      1000\n",
            "\n",
            "    accuracy                           0.90     10000\n",
            "   macro avg       0.90      0.90      0.90     10000\n",
            "weighted avg       0.90      0.90      0.90     10000\n",
            "\n"
          ],
          "name": "stdout"
        }
      ]
    },
    {
      "cell_type": "markdown",
      "metadata": {
        "id": "gE4GnCNUpav1",
        "colab_type": "text"
      },
      "source": [
        "# Unsupervised Pretraining"
      ]
    },
    {
      "cell_type": "code",
      "metadata": {
        "id": "V-9u0sgMrKUP",
        "colab_type": "code",
        "colab": {}
      },
      "source": [
        "x_100 = []\n",
        "y_100 = []\n",
        "for i in range(100):\n",
        "  index = np.random.randint(1,60001)\n",
        "  x_100.append(train_images[index])\n",
        "  y_100.append(train_labels[index])\n",
        "x_100 = np.asarray(x_100)\n",
        "y_100 = np.asarray(y_100)\n"
      ],
      "execution_count": 0,
      "outputs": []
    },
    {
      "cell_type": "code",
      "metadata": {
        "id": "wejP2zJnrzWz",
        "colab_type": "code",
        "outputId": "0d3f12fd-a5d1-41e4-ea23-564b75013463",
        "colab": {
          "base_uri": "https://localhost:8080/",
          "height": 34
        }
      },
      "source": [
        "x_100.shape"
      ],
      "execution_count": 0,
      "outputs": [
        {
          "output_type": "execute_result",
          "data": {
            "text/plain": [
              "(100, 28, 28, 1)"
            ]
          },
          "metadata": {
            "tags": []
          },
          "execution_count": 30
        }
      ]
    },
    {
      "cell_type": "code",
      "metadata": {
        "id": "BQCY_NJRuaor",
        "colab_type": "code",
        "outputId": "a3721bc7-a2fe-443e-d95a-9dd148eb7d0b",
        "colab": {
          "base_uri": "https://localhost:8080/",
          "height": 34
        }
      },
      "source": [
        "y_100[10]"
      ],
      "execution_count": 0,
      "outputs": [
        {
          "output_type": "execute_result",
          "data": {
            "text/plain": [
              "0"
            ]
          },
          "metadata": {
            "tags": []
          },
          "execution_count": 37
        }
      ]
    },
    {
      "cell_type": "code",
      "metadata": {
        "id": "DhRILoT5tgfc",
        "colab_type": "code",
        "outputId": "bc78641c-db04-4c3e-d2cb-36441419e31d",
        "colab": {
          "base_uri": "https://localhost:8080/",
          "height": 298
        }
      },
      "source": [
        "plt.imshow(x_100[10][:,:,-1]);\n",
        "plt.title(y_100[10])"
      ],
      "execution_count": 0,
      "outputs": [
        {
          "output_type": "execute_result",
          "data": {
            "text/plain": [
              "Text(0.5, 1.0, '0')"
            ]
          },
          "metadata": {
            "tags": []
          },
          "execution_count": 35
        },
        {
          "output_type": "display_data",
          "data": {
            "image/png": "[encoded data removed]",
            "text/plain": [
              "<Figure size 432x288 with 1 Axes>"
            ]
          },
          "metadata": {
            "tags": []
          }
        }
      ]
    },
    {
      "cell_type": "code",
      "metadata": {
        "id": "rm67bJd6tuG3",
        "colab_type": "code",
        "outputId": "fc2d469f-7ea4-4036-fb09-4bb7c6f9b446",
        "colab": {
          "base_uri": "https://localhost:8080/",
          "height": 50
        }
      },
      "source": [
        "y_100_one_hot = tf.keras.utils.to_categorical(y_100)\n",
        "print('Original label:', y_100[10])\n",
        "print('After conversion to one-hot:', y_100_one_hot[10])"
      ],
      "execution_count": 0,
      "outputs": [
        {
          "output_type": "stream",
          "text": [
            "Original label: 0\n",
            "After conversion to one-hot: [1. 0. 0. 0. 0. 0. 0. 0. 0. 0.]\n"
          ],
          "name": "stdout"
        }
      ]
    },
    {
      "cell_type": "code",
      "metadata": {
        "id": "Qx6greQEu8xM",
        "colab_type": "code",
        "outputId": "3d473295-f7ea-45bd-aff4-f37342f6d9af",
        "colab": {
          "base_uri": "https://localhost:8080/",
          "height": 50
        }
      },
      "source": [
        "print('Original label:', y_100[0])\n",
        "print('After conversion to one-hot:', y_100_one_hot[0])"
      ],
      "execution_count": 0,
      "outputs": [
        {
          "output_type": "stream",
          "text": [
            "Original label: 5\n",
            "After conversion to one-hot: [0. 0. 0. 0. 0. 1. 0. 0. 0. 0.]\n"
          ],
          "name": "stdout"
        }
      ]
    },
    {
      "cell_type": "code",
      "metadata": {
        "id": "7k1vVu1GvAqL",
        "colab_type": "code",
        "colab": {}
      },
      "source": [
        "train_X, valid_X, train_label, valid_label = train_test_split(x_100, y_100_one_hot, test_size=0.2, random_state =42)"
      ],
      "execution_count": 0,
      "outputs": []
    },
    {
      "cell_type": "code",
      "metadata": {
        "colab_type": "code",
        "outputId": "f00a18a6-9f4e-4aed-e9da-485a98b6fb18",
        "id": "GqnjZxr7vbDA",
        "colab": {
          "base_uri": "https://localhost:8080/",
          "height": 34
        }
      },
      "source": [
        "train_X.shape,valid_X.shape,train_label.shape,valid_label.shape"
      ],
      "execution_count": 0,
      "outputs": [
        {
          "output_type": "execute_result",
          "data": {
            "text/plain": [
              "((80, 28, 28, 1), (20, 28, 28, 1), (80, 10), (20, 10))"
            ]
          },
          "metadata": {
            "tags": []
          },
          "execution_count": 41
        }
      ]
    },
    {
      "cell_type": "code",
      "metadata": {
        "colab_type": "code",
        "outputId": "d5259440-0423-4f9b-9271-621087153e1c",
        "id": "tWzv47MvvbDV",
        "colab": {
          "base_uri": "https://localhost:8080/",
          "height": 890
        }
      },
      "source": [
        "full_model_100 = tf.keras.Model(input_img, classifier(encoder(input_img)))\n",
        "full_model_100.summary()"
      ],
      "execution_count": 0,
      "outputs": [
        {
          "output_type": "stream",
          "text": [
            "Model: \"model_1\"\n",
            "_________________________________________________________________\n",
            "Layer (type)                 Output Shape              Param #   \n",
            "=================================================================\n",
            "input_1 (InputLayer)         [(None, 28, 28, 1)]       0         \n",
            "_________________________________________________________________\n",
            "conv2d_15 (Conv2D)           (None, 28, 28, 32)        320       \n",
            "_________________________________________________________________\n",
            "batch_normalization_14 (Batc (None, 28, 28, 32)        128       \n",
            "_________________________________________________________________\n",
            "conv2d_16 (Conv2D)           (None, 28, 28, 32)        9248      \n",
            "_________________________________________________________________\n",
            "batch_normalization_15 (Batc (None, 28, 28, 32)        128       \n",
            "_________________________________________________________________\n",
            "max_pooling2d_2 (MaxPooling2 (None, 14, 14, 32)        0         \n",
            "_________________________________________________________________\n",
            "conv2d_17 (Conv2D)           (None, 14, 14, 64)        18496     \n",
            "_________________________________________________________________\n",
            "batch_normalization_16 (Batc (None, 14, 14, 64)        256       \n",
            "_________________________________________________________________\n",
            "conv2d_18 (Conv2D)           (None, 14, 14, 64)        36928     \n",
            "_________________________________________________________________\n",
            "batch_normalization_17 (Batc (None, 14, 14, 64)        256       \n",
            "_________________________________________________________________\n",
            "max_pooling2d_3 (MaxPooling2 (None, 7, 7, 64)          0         \n",
            "_________________________________________________________________\n",
            "conv2d_19 (Conv2D)           (None, 7, 7, 128)         73856     \n",
            "_________________________________________________________________\n",
            "batch_normalization_18 (Batc (None, 7, 7, 128)         512       \n",
            "_________________________________________________________________\n",
            "conv2d_20 (Conv2D)           (None, 7, 7, 128)         147584    \n",
            "_________________________________________________________________\n",
            "batch_normalization_19 (Batc (None, 7, 7, 128)         512       \n",
            "_________________________________________________________________\n",
            "conv2d_21 (Conv2D)           (None, 7, 7, 256)         295168    \n",
            "_________________________________________________________________\n",
            "batch_normalization_20 (Batc (None, 7, 7, 256)         1024      \n",
            "_________________________________________________________________\n",
            "conv2d_22 (Conv2D)           (None, 7, 7, 256)         590080    \n",
            "_________________________________________________________________\n",
            "batch_normalization_21 (Batc (None, 7, 7, 256)         1024      \n",
            "_________________________________________________________________\n",
            "flatten (Flatten)            (None, 12544)             0         \n",
            "_________________________________________________________________\n",
            "dense (Dense)                (None, 128)               1605760   \n",
            "_________________________________________________________________\n",
            "dense_1 (Dense)              (None, 10)                1290      \n",
            "=================================================================\n",
            "Total params: 2,782,570\n",
            "Trainable params: 2,780,650\n",
            "Non-trainable params: 1,920\n",
            "_________________________________________________________________\n"
          ],
          "name": "stdout"
        }
      ]
    },
    {
      "cell_type": "code",
      "metadata": {
        "colab_type": "code",
        "id": "5vETEZ1lvbDc",
        "colab": {}
      },
      "source": [
        "for l1, l2 in zip(full_model_100.layers[:19], autoencoder.layers[:19]):\n",
        "  l1.set_weights(l2.get_weights())"
      ],
      "execution_count": 0,
      "outputs": []
    },
    {
      "cell_type": "code",
      "metadata": {
        "colab_type": "code",
        "outputId": "1acd5c17-c040-4e0b-946a-49f15ed353d6",
        "id": "HFfVPDnjvbDn",
        "colab": {
          "base_uri": "https://localhost:8080/",
          "height": 470
        }
      },
      "source": [
        "autoencoder.get_weights()[0][1]"
      ],
      "execution_count": 0,
      "outputs": [
        {
          "output_type": "execute_result",
          "data": {
            "text/plain": [
              "array([[[ 0.04833078, -0.15483446, -0.14417179,  0.06251215,\n",
              "          0.11159409, -0.09248102,  0.08613814, -0.14351667,\n",
              "         -0.0704376 , -0.22070388,  0.00126335, -0.19129649,\n",
              "         -0.11122917,  0.15460157,  0.1769649 , -0.0757566 ,\n",
              "         -0.0213549 , -0.08987148, -0.08517823, -0.00665311,\n",
              "          0.07313575,  0.13902144,  0.1476051 , -0.26708484,\n",
              "          0.10219434, -0.06447496, -0.11948302, -0.0767829 ,\n",
              "          0.15720981, -0.04569827, -0.12224747,  0.16496058]],\n",
              "\n",
              "       [[ 0.08498206,  0.15945816, -0.10573611,  0.08375151,\n",
              "          0.01000481, -0.02491541,  0.26487067, -0.00853189,\n",
              "          0.19857024, -0.18248236, -0.09711066, -0.33645344,\n",
              "         -0.11392328,  0.2271518 ,  0.20419791, -0.05882332,\n",
              "         -0.1968524 ,  0.15867296, -0.00728969, -0.07573808,\n",
              "          0.04325111, -0.00043735,  0.14861935,  0.01673077,\n",
              "         -0.13927291,  0.08392757, -0.1567714 , -0.1256459 ,\n",
              "          0.09913367, -0.1593194 ,  0.04062937, -0.06227977]],\n",
              "\n",
              "       [[ 0.20321509,  0.03029968, -0.13654836, -0.05844623,\n",
              "         -0.12057731,  0.1005013 , -0.0429659 , -0.05090312,\n",
              "         -0.15161034, -0.09345373,  0.1537822 , -0.11173149,\n",
              "          0.26512527, -0.07590522, -0.07390039,  0.08705463,\n",
              "         -0.16287865,  0.07729416,  0.1523287 ,  0.10811409,\n",
              "         -0.07815523,  0.12568867, -0.18078345,  0.0355607 ,\n",
              "         -0.1538973 ,  0.10341452, -0.01082128,  0.11025569,\n",
              "         -0.12700894, -0.15985912, -0.14949669,  0.21231835]]],\n",
              "      dtype=float32)"
            ]
          },
          "metadata": {
            "tags": []
          },
          "execution_count": 45
        }
      ]
    },
    {
      "cell_type": "code",
      "metadata": {
        "colab_type": "code",
        "outputId": "74dda161-5ffd-48b7-d4ca-827b1d7fa81e",
        "id": "dksQsYnfvbDw",
        "colab": {
          "base_uri": "https://localhost:8080/",
          "height": 470
        }
      },
      "source": [
        "full_model_100.get_weights()[0][1]"
      ],
      "execution_count": 0,
      "outputs": [
        {
          "output_type": "execute_result",
          "data": {
            "text/plain": [
              "array([[[ 0.04833078, -0.15483446, -0.14417179,  0.06251215,\n",
              "          0.11159409, -0.09248102,  0.08613814, -0.14351667,\n",
              "         -0.0704376 , -0.22070388,  0.00126335, -0.19129649,\n",
              "         -0.11122917,  0.15460157,  0.1769649 , -0.0757566 ,\n",
              "         -0.0213549 , -0.08987148, -0.08517823, -0.00665311,\n",
              "          0.07313575,  0.13902144,  0.1476051 , -0.26708484,\n",
              "          0.10219434, -0.06447496, -0.11948302, -0.0767829 ,\n",
              "          0.15720981, -0.04569827, -0.12224747,  0.16496058]],\n",
              "\n",
              "       [[ 0.08498206,  0.15945816, -0.10573611,  0.08375151,\n",
              "          0.01000481, -0.02491541,  0.26487067, -0.00853189,\n",
              "          0.19857024, -0.18248236, -0.09711066, -0.33645344,\n",
              "         -0.11392328,  0.2271518 ,  0.20419791, -0.05882332,\n",
              "         -0.1968524 ,  0.15867296, -0.00728969, -0.07573808,\n",
              "          0.04325111, -0.00043735,  0.14861935,  0.01673077,\n",
              "         -0.13927291,  0.08392757, -0.1567714 , -0.1256459 ,\n",
              "          0.09913367, -0.1593194 ,  0.04062937, -0.06227977]],\n",
              "\n",
              "       [[ 0.20321509,  0.03029968, -0.13654836, -0.05844623,\n",
              "         -0.12057731,  0.1005013 , -0.0429659 , -0.05090312,\n",
              "         -0.15161034, -0.09345373,  0.1537822 , -0.11173149,\n",
              "          0.26512527, -0.07590522, -0.07390039,  0.08705463,\n",
              "         -0.16287865,  0.07729416,  0.1523287 ,  0.10811409,\n",
              "         -0.07815523,  0.12568867, -0.18078345,  0.0355607 ,\n",
              "         -0.1538973 ,  0.10341452, -0.01082128,  0.11025569,\n",
              "         -0.12700894, -0.15985912, -0.14949669,  0.21231835]]],\n",
              "      dtype=float32)"
            ]
          },
          "metadata": {
            "tags": []
          },
          "execution_count": 46
        }
      ]
    },
    {
      "cell_type": "code",
      "metadata": {
        "colab_type": "code",
        "id": "phKtFin5vbD3",
        "colab": {}
      },
      "source": [
        "for layer in full_model_100.layers[:19]:\n",
        "  layer.trainable = False"
      ],
      "execution_count": 0,
      "outputs": []
    },
    {
      "cell_type": "code",
      "metadata": {
        "colab_type": "code",
        "outputId": "94c00ec7-23d5-49bb-bd03-e95884ae22f3",
        "id": "kVu-tm3TvbEB",
        "colab": {
          "base_uri": "https://localhost:8080/",
          "height": 890
        }
      },
      "source": [
        "full_model_100.summary()"
      ],
      "execution_count": 0,
      "outputs": [
        {
          "output_type": "stream",
          "text": [
            "Model: \"model_1\"\n",
            "_________________________________________________________________\n",
            "Layer (type)                 Output Shape              Param #   \n",
            "=================================================================\n",
            "input_1 (InputLayer)         [(None, 28, 28, 1)]       0         \n",
            "_________________________________________________________________\n",
            "conv2d_15 (Conv2D)           (None, 28, 28, 32)        320       \n",
            "_________________________________________________________________\n",
            "batch_normalization_14 (Batc (None, 28, 28, 32)        128       \n",
            "_________________________________________________________________\n",
            "conv2d_16 (Conv2D)           (None, 28, 28, 32)        9248      \n",
            "_________________________________________________________________\n",
            "batch_normalization_15 (Batc (None, 28, 28, 32)        128       \n",
            "_________________________________________________________________\n",
            "max_pooling2d_2 (MaxPooling2 (None, 14, 14, 32)        0         \n",
            "_________________________________________________________________\n",
            "conv2d_17 (Conv2D)           (None, 14, 14, 64)        18496     \n",
            "_________________________________________________________________\n",
            "batch_normalization_16 (Batc (None, 14, 14, 64)        256       \n",
            "_________________________________________________________________\n",
            "conv2d_18 (Conv2D)           (None, 14, 14, 64)        36928     \n",
            "_________________________________________________________________\n",
            "batch_normalization_17 (Batc (None, 14, 14, 64)        256       \n",
            "_________________________________________________________________\n",
            "max_pooling2d_3 (MaxPooling2 (None, 7, 7, 64)          0         \n",
            "_________________________________________________________________\n",
            "conv2d_19 (Conv2D)           (None, 7, 7, 128)         73856     \n",
            "_________________________________________________________________\n",
            "batch_normalization_18 (Batc (None, 7, 7, 128)         512       \n",
            "_________________________________________________________________\n",
            "conv2d_20 (Conv2D)           (None, 7, 7, 128)         147584    \n",
            "_________________________________________________________________\n",
            "batch_normalization_19 (Batc (None, 7, 7, 128)         512       \n",
            "_________________________________________________________________\n",
            "conv2d_21 (Conv2D)           (None, 7, 7, 256)         295168    \n",
            "_________________________________________________________________\n",
            "batch_normalization_20 (Batc (None, 7, 7, 256)         1024      \n",
            "_________________________________________________________________\n",
            "conv2d_22 (Conv2D)           (None, 7, 7, 256)         590080    \n",
            "_________________________________________________________________\n",
            "batch_normalization_21 (Batc (None, 7, 7, 256)         1024      \n",
            "_________________________________________________________________\n",
            "flatten (Flatten)            (None, 12544)             0         \n",
            "_________________________________________________________________\n",
            "dense (Dense)                (None, 128)               1605760   \n",
            "_________________________________________________________________\n",
            "dense_1 (Dense)              (None, 10)                1290      \n",
            "=================================================================\n",
            "Total params: 2,782,570\n",
            "Trainable params: 1,607,050\n",
            "Non-trainable params: 1,175,520\n",
            "_________________________________________________________________\n"
          ],
          "name": "stdout"
        }
      ]
    },
    {
      "cell_type": "code",
      "metadata": {
        "colab_type": "code",
        "id": "OHs5usTzvbEH",
        "colab": {}
      },
      "source": [
        "full_model_100.compile(loss=tf.keras.losses.categorical_crossentropy, optimizer=tf.keras.optimizers.Adam(), metrics=['accuracy'])"
      ],
      "execution_count": 0,
      "outputs": []
    },
    {
      "cell_type": "code",
      "metadata": {
        "colab_type": "code",
        "outputId": "e02db86c-7423-41d1-a39d-ca727570dc92",
        "id": "TUhy3xgjvbER",
        "colab": {
          "base_uri": "https://localhost:8080/",
          "height": 34
        }
      },
      "source": [
        "earlystop_acc_callback = tf.keras.callbacks.EarlyStopping(\n",
        "  monitor='val_accuracy', min_delta=0.0001,\n",
        "  patience=5)\n",
        "checkpoint_path = \"training_classify/cp-{epoch:04d}.ckpt\"\n",
        "checkpoint_dir = os.path.dirname(checkpoint_path)\n",
        "cp_callback = tf.keras.callbacks.ModelCheckpoint(\n",
        "    filepath=checkpoint_path, \n",
        "    verbose=1, \n",
        "    save_weights_only=True,\n",
        "    period=5)\n",
        "full_model_100.save_weights(checkpoint_path.format(epoch=0))"
      ],
      "execution_count": 0,
      "outputs": [
        {
          "output_type": "stream",
          "text": [
            "WARNING:tensorflow:`period` argument is deprecated. Please use `save_freq` to specify the frequency in number of samples seen.\n"
          ],
          "name": "stdout"
        }
      ]
    },
    {
      "cell_type": "code",
      "metadata": {
        "colab_type": "code",
        "outputId": "ff14fedf-2033-49fd-acfc-eacc113e4bbb",
        "id": "jdSu5tPNvbEd",
        "colab": {
          "base_uri": "https://localhost:8080/",
          "height": 1000
        }
      },
      "source": [
        "classify_100_train = full_model_100.fit(train_X, train_label, batch_size=batch_size, epochs=200, verbose=1, validation_data=(valid_X, valid_label), use_multiprocessing=True, callbacks=[cp_callback] )"
      ],
      "execution_count": 0,
      "outputs": [
        {
          "output_type": "stream",
          "text": [
            "Train on 80 samples, validate on 20 samples\n",
            "Epoch 1/200\n",
            "80/80 [==============================] - 0s 310us/sample - loss: 0.0022 - accuracy: 1.0000 - val_loss: 3.0895 - val_accuracy: 0.6500\n",
            "Epoch 2/200\n",
            "\n",
            "Epoch 00002: saving model to training_classify/cp-0002.ckpt\n",
            "80/80 [==============================] - 0s 2ms/sample - loss: 0.0012 - accuracy: 1.0000 - val_loss: 3.2103 - val_accuracy: 0.6500\n",
            "Epoch 3/200\n",
            "80/80 [==============================] - 0s 309us/sample - loss: 6.9817e-04 - accuracy: 1.0000 - val_loss: 3.3201 - val_accuracy: 0.6500\n",
            "Epoch 4/200\n",
            "80/80 [==============================] - 0s 328us/sample - loss: 5.1608e-04 - accuracy: 1.0000 - val_loss: 3.4192 - val_accuracy: 0.6500\n",
            "Epoch 5/200\n",
            "80/80 [==============================] - 0s 303us/sample - loss: 4.3706e-04 - accuracy: 1.0000 - val_loss: 3.5080 - val_accuracy: 0.6500\n",
            "Epoch 6/200\n",
            "80/80 [==============================] - 0s 262us/sample - loss: 3.8919e-04 - accuracy: 1.0000 - val_loss: 3.5868 - val_accuracy: 0.6500\n",
            "Epoch 7/200\n",
            "\n",
            "Epoch 00007: saving model to training_classify/cp-0007.ckpt\n",
            "80/80 [==============================] - 0s 2ms/sample - loss: 3.3660e-04 - accuracy: 1.0000 - val_loss: 3.6564 - val_accuracy: 0.6500\n",
            "Epoch 8/200\n",
            "80/80 [==============================] - 0s 333us/sample - loss: 2.7496e-04 - accuracy: 1.0000 - val_loss: 3.7171 - val_accuracy: 0.6500\n",
            "Epoch 9/200\n",
            "80/80 [==============================] - 0s 297us/sample - loss: 2.1367e-04 - accuracy: 1.0000 - val_loss: 3.7715 - val_accuracy: 0.6500\n",
            "Epoch 10/200\n",
            "80/80 [==============================] - 0s 249us/sample - loss: 1.5957e-04 - accuracy: 1.0000 - val_loss: 3.8199 - val_accuracy: 0.6500\n",
            "Epoch 11/200\n",
            "80/80 [==============================] - 0s 249us/sample - loss: 1.1869e-04 - accuracy: 1.0000 - val_loss: 3.8633 - val_accuracy: 0.6500\n",
            "Epoch 12/200\n",
            "\n",
            "Epoch 00012: saving model to training_classify/cp-0012.ckpt\n",
            "80/80 [==============================] - 0s 2ms/sample - loss: 8.8701e-05 - accuracy: 1.0000 - val_loss: 3.9025 - val_accuracy: 0.6500\n",
            "Epoch 13/200\n",
            "80/80 [==============================] - 0s 341us/sample - loss: 6.7442e-05 - accuracy: 1.0000 - val_loss: 3.9381 - val_accuracy: 0.6500\n",
            "Epoch 14/200\n",
            "80/80 [==============================] - 0s 287us/sample - loss: 5.2472e-05 - accuracy: 1.0000 - val_loss: 3.9707 - val_accuracy: 0.6500\n",
            "Epoch 15/200\n",
            "80/80 [==============================] - 0s 277us/sample - loss: 4.1841e-05 - accuracy: 1.0000 - val_loss: 4.0004 - val_accuracy: 0.6500\n",
            "Epoch 16/200\n",
            "80/80 [==============================] - 0s 301us/sample - loss: 3.4180e-05 - accuracy: 1.0000 - val_loss: 4.0274 - val_accuracy: 0.6500\n",
            "Epoch 17/200\n",
            "\n",
            "Epoch 00017: saving model to training_classify/cp-0017.ckpt\n",
            "80/80 [==============================] - 0s 2ms/sample - loss: 2.8527e-05 - accuracy: 1.0000 - val_loss: 4.0520 - val_accuracy: 0.6500\n",
            "Epoch 18/200\n",
            "80/80 [==============================] - 0s 309us/sample - loss: 2.4248e-05 - accuracy: 1.0000 - val_loss: 4.0745 - val_accuracy: 0.6500\n",
            "Epoch 19/200\n",
            "80/80 [==============================] - 0s 288us/sample - loss: 2.0987e-05 - accuracy: 1.0000 - val_loss: 4.0949 - val_accuracy: 0.6500\n",
            "Epoch 20/200\n",
            "80/80 [==============================] - 0s 273us/sample - loss: 1.8445e-05 - accuracy: 1.0000 - val_loss: 4.1135 - val_accuracy: 0.6500\n",
            "Epoch 21/200\n",
            "80/80 [==============================] - 0s 270us/sample - loss: 1.6436e-05 - accuracy: 1.0000 - val_loss: 4.1305 - val_accuracy: 0.6500\n",
            "Epoch 22/200\n",
            "\n",
            "Epoch 00022: saving model to training_classify/cp-0022.ckpt\n",
            "80/80 [==============================] - 0s 2ms/sample - loss: 1.4808e-05 - accuracy: 1.0000 - val_loss: 4.1459 - val_accuracy: 0.6500\n",
            "Epoch 23/200\n",
            "80/80 [==============================] - 0s 357us/sample - loss: 1.3477e-05 - accuracy: 1.0000 - val_loss: 4.1600 - val_accuracy: 0.6500\n",
            "Epoch 24/200\n",
            "80/80 [==============================] - 0s 283us/sample - loss: 1.2385e-05 - accuracy: 1.0000 - val_loss: 4.1728 - val_accuracy: 0.6500\n",
            "Epoch 25/200\n",
            "80/80 [==============================] - 0s 267us/sample - loss: 1.1460e-05 - accuracy: 1.0000 - val_loss: 4.1845 - val_accuracy: 0.6500\n",
            "Epoch 26/200\n",
            "80/80 [==============================] - 0s 270us/sample - loss: 1.0678e-05 - accuracy: 1.0000 - val_loss: 4.1952 - val_accuracy: 0.6500\n",
            "Epoch 27/200\n",
            "\n",
            "Epoch 00027: saving model to training_classify/cp-0027.ckpt\n",
            "80/80 [==============================] - 1s 8ms/sample - loss: 1.0012e-05 - accuracy: 1.0000 - val_loss: 4.2049 - val_accuracy: 0.6500\n",
            "Epoch 28/200\n",
            "80/80 [==============================] - 0s 397us/sample - loss: 9.4350e-06 - accuracy: 1.0000 - val_loss: 4.2138 - val_accuracy: 0.6500\n",
            "Epoch 29/200\n",
            "80/80 [==============================] - 0s 278us/sample - loss: 8.9299e-06 - accuracy: 1.0000 - val_loss: 4.2220 - val_accuracy: 0.6500\n",
            "Epoch 30/200\n",
            "80/80 [==============================] - 0s 270us/sample - loss: 8.4948e-06 - accuracy: 1.0000 - val_loss: 4.2294 - val_accuracy: 0.6500\n",
            "Epoch 31/200\n",
            "80/80 [==============================] - 0s 327us/sample - loss: 8.1104e-06 - accuracy: 1.0000 - val_loss: 4.2362 - val_accuracy: 0.6500\n",
            "Epoch 32/200\n",
            "\n",
            "Epoch 00032: saving model to training_classify/cp-0032.ckpt\n",
            "80/80 [==============================] - 0s 2ms/sample - loss: 7.7677e-06 - accuracy: 1.0000 - val_loss: 4.2423 - val_accuracy: 0.6500\n",
            "Epoch 33/200\n",
            "80/80 [==============================] - 0s 341us/sample - loss: 7.4623e-06 - accuracy: 1.0000 - val_loss: 4.2479 - val_accuracy: 0.6500\n",
            "Epoch 34/200\n",
            "80/80 [==============================] - 0s 365us/sample - loss: 7.1896e-06 - accuracy: 1.0000 - val_loss: 4.2530 - val_accuracy: 0.6500\n",
            "Epoch 35/200\n",
            "80/80 [==============================] - 0s 264us/sample - loss: 6.9422e-06 - accuracy: 1.0000 - val_loss: 4.2577 - val_accuracy: 0.6500\n",
            "Epoch 36/200\n",
            "80/80 [==============================] - 0s 263us/sample - loss: 6.7262e-06 - accuracy: 1.0000 - val_loss: 4.2619 - val_accuracy: 0.6500\n",
            "Epoch 37/200\n",
            "\n",
            "Epoch 00037: saving model to training_classify/cp-0037.ckpt\n",
            "80/80 [==============================] - 0s 2ms/sample - loss: 6.5206e-06 - accuracy: 1.0000 - val_loss: 4.2658 - val_accuracy: 0.6500\n",
            "Epoch 38/200\n",
            "80/80 [==============================] - 0s 314us/sample - loss: 6.3403e-06 - accuracy: 1.0000 - val_loss: 4.2693 - val_accuracy: 0.6500\n",
            "Epoch 39/200\n",
            "80/80 [==============================] - 0s 289us/sample - loss: 6.1749e-06 - accuracy: 1.0000 - val_loss: 4.2725 - val_accuracy: 0.6500\n",
            "Epoch 40/200\n",
            "80/80 [==============================] - 0s 295us/sample - loss: 6.0229e-06 - accuracy: 1.0000 - val_loss: 4.2754 - val_accuracy: 0.6500\n",
            "Epoch 41/200\n",
            "80/80 [==============================] - 0s 245us/sample - loss: 5.8828e-06 - accuracy: 1.0000 - val_loss: 4.2780 - val_accuracy: 0.6500\n",
            "Epoch 42/200\n",
            "\n",
            "Epoch 00042: saving model to training_classify/cp-0042.ckpt\n",
            "80/80 [==============================] - 0s 2ms/sample - loss: 5.7532e-06 - accuracy: 1.0000 - val_loss: 4.2805 - val_accuracy: 0.6500\n",
            "Epoch 43/200\n",
            "80/80 [==============================] - 0s 330us/sample - loss: 5.6355e-06 - accuracy: 1.0000 - val_loss: 4.2827 - val_accuracy: 0.6500\n",
            "Epoch 44/200\n",
            "80/80 [==============================] - 0s 306us/sample - loss: 5.5267e-06 - accuracy: 1.0000 - val_loss: 4.2847 - val_accuracy: 0.6500\n",
            "Epoch 45/200\n",
            "80/80 [==============================] - 0s 324us/sample - loss: 5.4209e-06 - accuracy: 1.0000 - val_loss: 4.2865 - val_accuracy: 0.6500\n",
            "Epoch 46/200\n",
            "80/80 [==============================] - 0s 269us/sample - loss: 5.3256e-06 - accuracy: 1.0000 - val_loss: 4.2882 - val_accuracy: 0.6500\n",
            "Epoch 47/200\n",
            "\n",
            "Epoch 00047: saving model to training_classify/cp-0047.ckpt\n",
            "80/80 [==============================] - 0s 2ms/sample - loss: 5.2332e-06 - accuracy: 1.0000 - val_loss: 4.2897 - val_accuracy: 0.6500\n",
            "Epoch 48/200\n",
            "80/80 [==============================] - 0s 325us/sample - loss: 5.1482e-06 - accuracy: 1.0000 - val_loss: 4.2911 - val_accuracy: 0.6500\n",
            "Epoch 49/200\n",
            "80/80 [==============================] - 0s 363us/sample - loss: 5.0722e-06 - accuracy: 1.0000 - val_loss: 4.2923 - val_accuracy: 0.6500\n",
            "Epoch 50/200\n",
            "80/80 [==============================] - 0s 306us/sample - loss: 4.9963e-06 - accuracy: 1.0000 - val_loss: 4.2935 - val_accuracy: 0.6500\n",
            "Epoch 51/200\n",
            "80/80 [==============================] - 0s 281us/sample - loss: 4.9262e-06 - accuracy: 1.0000 - val_loss: 4.2946 - val_accuracy: 0.6500\n",
            "Epoch 52/200\n",
            "\n",
            "Epoch 00052: saving model to training_classify/cp-0052.ckpt\n",
            "80/80 [==============================] - 0s 2ms/sample - loss: 4.8621e-06 - accuracy: 1.0000 - val_loss: 4.2955 - val_accuracy: 0.6500\n",
            "Epoch 53/200\n",
            "80/80 [==============================] - 0s 405us/sample - loss: 4.7951e-06 - accuracy: 1.0000 - val_loss: 4.2964 - val_accuracy: 0.6500\n",
            "Epoch 54/200\n",
            "80/80 [==============================] - 0s 277us/sample - loss: 4.7355e-06 - accuracy: 1.0000 - val_loss: 4.2972 - val_accuracy: 0.6500\n",
            "Epoch 55/200\n",
            "80/80 [==============================] - 0s 284us/sample - loss: 4.6774e-06 - accuracy: 1.0000 - val_loss: 4.2980 - val_accuracy: 0.6500\n",
            "Epoch 56/200\n",
            "80/80 [==============================] - 0s 285us/sample - loss: 4.6222e-06 - accuracy: 1.0000 - val_loss: 4.2986 - val_accuracy: 0.6500\n",
            "Epoch 57/200\n",
            "\n",
            "Epoch 00057: saving model to training_classify/cp-0057.ckpt\n",
            "80/80 [==============================] - 0s 2ms/sample - loss: 4.5716e-06 - accuracy: 1.0000 - val_loss: 4.2992 - val_accuracy: 0.6500\n",
            "Epoch 58/200\n",
            "80/80 [==============================] - 0s 304us/sample - loss: 4.5179e-06 - accuracy: 1.0000 - val_loss: 4.2998 - val_accuracy: 0.6500\n",
            "Epoch 59/200\n",
            "80/80 [==============================] - 0s 285us/sample - loss: 4.4658e-06 - accuracy: 1.0000 - val_loss: 4.3003 - val_accuracy: 0.6500\n",
            "Epoch 60/200\n",
            "80/80 [==============================] - 0s 286us/sample - loss: 4.4226e-06 - accuracy: 1.0000 - val_loss: 4.3008 - val_accuracy: 0.6500\n",
            "Epoch 61/200\n",
            "80/80 [==============================] - 0s 274us/sample - loss: 4.3764e-06 - accuracy: 1.0000 - val_loss: 4.3013 - val_accuracy: 0.6500\n",
            "Epoch 62/200\n",
            "\n",
            "Epoch 00062: saving model to training_classify/cp-0062.ckpt\n",
            "80/80 [==============================] - 0s 3ms/sample - loss: 4.3302e-06 - accuracy: 1.0000 - val_loss: 4.3017 - val_accuracy: 0.6500\n",
            "Epoch 63/200\n",
            "80/80 [==============================] - 0s 300us/sample - loss: 4.2870e-06 - accuracy: 1.0000 - val_loss: 4.3020 - val_accuracy: 0.6500\n",
            "Epoch 64/200\n",
            "80/80 [==============================] - 0s 265us/sample - loss: 4.2482e-06 - accuracy: 1.0000 - val_loss: 4.3024 - val_accuracy: 0.6500\n",
            "Epoch 65/200\n",
            "80/80 [==============================] - 0s 256us/sample - loss: 4.2065e-06 - accuracy: 1.0000 - val_loss: 4.3027 - val_accuracy: 0.6500\n",
            "Epoch 66/200\n",
            "80/80 [==============================] - 0s 266us/sample - loss: 4.1633e-06 - accuracy: 1.0000 - val_loss: 4.3030 - val_accuracy: 0.6500\n",
            "Epoch 67/200\n",
            "\n",
            "Epoch 00067: saving model to training_classify/cp-0067.ckpt\n",
            "80/80 [==============================] - 0s 2ms/sample - loss: 4.1275e-06 - accuracy: 1.0000 - val_loss: 4.3033 - val_accuracy: 0.6500\n",
            "Epoch 68/200\n",
            "80/80 [==============================] - 0s 300us/sample - loss: 4.0933e-06 - accuracy: 1.0000 - val_loss: 4.3035 - val_accuracy: 0.6500\n",
            "Epoch 69/200\n",
            "80/80 [==============================] - 0s 296us/sample - loss: 4.0575e-06 - accuracy: 1.0000 - val_loss: 4.3037 - val_accuracy: 0.6500\n",
            "Epoch 70/200\n",
            "80/80 [==============================] - 0s 243us/sample - loss: 4.0203e-06 - accuracy: 1.0000 - val_loss: 4.3040 - val_accuracy: 0.6500\n",
            "Epoch 71/200\n",
            "80/80 [==============================] - 0s 236us/sample - loss: 3.9890e-06 - accuracy: 1.0000 - val_loss: 4.3042 - val_accuracy: 0.6500\n",
            "Epoch 72/200\n",
            "\n",
            "Epoch 00072: saving model to training_classify/cp-0072.ckpt\n",
            "80/80 [==============================] - 0s 2ms/sample - loss: 3.9502e-06 - accuracy: 1.0000 - val_loss: 4.3044 - val_accuracy: 0.6500\n",
            "Epoch 73/200\n",
            "80/80 [==============================] - 0s 307us/sample - loss: 3.9175e-06 - accuracy: 1.0000 - val_loss: 4.3045 - val_accuracy: 0.6500\n",
            "Epoch 74/200\n",
            "80/80 [==============================] - 0s 277us/sample - loss: 3.8891e-06 - accuracy: 1.0000 - val_loss: 4.3047 - val_accuracy: 0.6500\n",
            "Epoch 75/200\n",
            "80/80 [==============================] - 0s 248us/sample - loss: 3.8549e-06 - accuracy: 1.0000 - val_loss: 4.3049 - val_accuracy: 0.6500\n",
            "Epoch 76/200\n",
            "80/80 [==============================] - 0s 314us/sample - loss: 3.8251e-06 - accuracy: 1.0000 - val_loss: 4.3050 - val_accuracy: 0.6500\n",
            "Epoch 77/200\n",
            "\n",
            "Epoch 00077: saving model to training_classify/cp-0077.ckpt\n",
            "80/80 [==============================] - 0s 2ms/sample - loss: 3.7953e-06 - accuracy: 1.0000 - val_loss: 4.3052 - val_accuracy: 0.6500\n",
            "Epoch 78/200\n",
            "80/80 [==============================] - 0s 297us/sample - loss: 3.7655e-06 - accuracy: 1.0000 - val_loss: 4.3053 - val_accuracy: 0.6500\n",
            "Epoch 79/200\n",
            "80/80 [==============================] - 0s 266us/sample - loss: 3.7372e-06 - accuracy: 1.0000 - val_loss: 4.3054 - val_accuracy: 0.6500\n",
            "Epoch 80/200\n",
            "80/80 [==============================] - 0s 242us/sample - loss: 3.7059e-06 - accuracy: 1.0000 - val_loss: 4.3055 - val_accuracy: 0.6500\n",
            "Epoch 81/200\n",
            "80/80 [==============================] - 0s 237us/sample - loss: 3.6790e-06 - accuracy: 1.0000 - val_loss: 4.3057 - val_accuracy: 0.6500\n",
            "Epoch 82/200\n",
            "\n",
            "Epoch 00082: saving model to training_classify/cp-0082.ckpt\n",
            "80/80 [==============================] - 1s 8ms/sample - loss: 3.6507e-06 - accuracy: 1.0000 - val_loss: 4.3058 - val_accuracy: 0.6500\n",
            "Epoch 83/200\n",
            "80/80 [==============================] - 0s 299us/sample - loss: 3.6224e-06 - accuracy: 1.0000 - val_loss: 4.3059 - val_accuracy: 0.6500\n",
            "Epoch 84/200\n",
            "80/80 [==============================] - 0s 339us/sample - loss: 3.5941e-06 - accuracy: 1.0000 - val_loss: 4.3060 - val_accuracy: 0.6500\n",
            "Epoch 85/200\n",
            "80/80 [==============================] - 0s 596us/sample - loss: 3.5673e-06 - accuracy: 1.0000 - val_loss: 4.3061 - val_accuracy: 0.6500\n",
            "Epoch 86/200\n",
            "80/80 [==============================] - 0s 551us/sample - loss: 3.5405e-06 - accuracy: 1.0000 - val_loss: 4.3062 - val_accuracy: 0.6500\n",
            "Epoch 87/200\n",
            "\n",
            "Epoch 00087: saving model to training_classify/cp-0087.ckpt\n",
            "80/80 [==============================] - 0s 2ms/sample - loss: 3.5181e-06 - accuracy: 1.0000 - val_loss: 4.3063 - val_accuracy: 0.6500\n",
            "Epoch 88/200\n",
            "80/80 [==============================] - 0s 384us/sample - loss: 3.4928e-06 - accuracy: 1.0000 - val_loss: 4.3063 - val_accuracy: 0.6500\n",
            "Epoch 89/200\n",
            "80/80 [==============================] - 0s 276us/sample - loss: 3.4645e-06 - accuracy: 1.0000 - val_loss: 4.3064 - val_accuracy: 0.6500\n",
            "Epoch 90/200\n",
            "80/80 [==============================] - 0s 219us/sample - loss: 3.4376e-06 - accuracy: 1.0000 - val_loss: 4.3065 - val_accuracy: 0.6500\n",
            "Epoch 91/200\n",
            "80/80 [==============================] - 0s 272us/sample - loss: 3.4138e-06 - accuracy: 1.0000 - val_loss: 4.3066 - val_accuracy: 0.6500\n",
            "Epoch 92/200\n",
            "\n",
            "Epoch 00092: saving model to training_classify/cp-0092.ckpt\n",
            "80/80 [==============================] - 0s 2ms/sample - loss: 3.3870e-06 - accuracy: 1.0000 - val_loss: 4.3067 - val_accuracy: 0.6500\n",
            "Epoch 93/200\n",
            "80/80 [==============================] - 0s 317us/sample - loss: 3.3617e-06 - accuracy: 1.0000 - val_loss: 4.3068 - val_accuracy: 0.6500\n",
            "Epoch 94/200\n",
            "80/80 [==============================] - 0s 380us/sample - loss: 3.3408e-06 - accuracy: 1.0000 - val_loss: 4.3068 - val_accuracy: 0.6500\n",
            "Epoch 95/200\n",
            "80/80 [==============================] - 0s 249us/sample - loss: 3.3155e-06 - accuracy: 1.0000 - val_loss: 4.3069 - val_accuracy: 0.6500\n",
            "Epoch 96/200\n",
            "80/80 [==============================] - 0s 297us/sample - loss: 3.2931e-06 - accuracy: 1.0000 - val_loss: 4.3070 - val_accuracy: 0.6500\n",
            "Epoch 97/200\n",
            "\n",
            "Epoch 00097: saving model to training_classify/cp-0097.ckpt\n",
            "80/80 [==============================] - 0s 2ms/sample - loss: 3.2708e-06 - accuracy: 1.0000 - val_loss: 4.3071 - val_accuracy: 0.6500\n",
            "Epoch 98/200\n",
            "80/80 [==============================] - 0s 305us/sample - loss: 3.2484e-06 - accuracy: 1.0000 - val_loss: 4.3071 - val_accuracy: 0.6500\n",
            "Epoch 99/200\n",
            "80/80 [==============================] - 0s 266us/sample - loss: 3.2261e-06 - accuracy: 1.0000 - val_loss: 4.3072 - val_accuracy: 0.6500\n",
            "Epoch 100/200\n",
            "80/80 [==============================] - 0s 245us/sample - loss: 3.2037e-06 - accuracy: 1.0000 - val_loss: 4.3073 - val_accuracy: 0.6500\n",
            "Epoch 101/200\n",
            "80/80 [==============================] - 0s 252us/sample - loss: 3.1843e-06 - accuracy: 1.0000 - val_loss: 4.3073 - val_accuracy: 0.6500\n",
            "Epoch 102/200\n",
            "\n",
            "Epoch 00102: saving model to training_classify/cp-0102.ckpt\n",
            "80/80 [==============================] - 0s 2ms/sample - loss: 3.1590e-06 - accuracy: 1.0000 - val_loss: 4.3074 - val_accuracy: 0.6500\n",
            "Epoch 103/200\n",
            "80/80 [==============================] - 0s 401us/sample - loss: 3.1396e-06 - accuracy: 1.0000 - val_loss: 4.3075 - val_accuracy: 0.6500\n",
            "Epoch 104/200\n",
            "80/80 [==============================] - 0s 284us/sample - loss: 3.1203e-06 - accuracy: 1.0000 - val_loss: 4.3075 - val_accuracy: 0.6500\n",
            "Epoch 105/200\n",
            "80/80 [==============================] - 0s 282us/sample - loss: 3.0994e-06 - accuracy: 1.0000 - val_loss: 4.3076 - val_accuracy: 0.6500\n",
            "Epoch 106/200\n",
            "80/80 [==============================] - 0s 238us/sample - loss: 3.0756e-06 - accuracy: 1.0000 - val_loss: 4.3077 - val_accuracy: 0.6500\n",
            "Epoch 107/200\n",
            "\n",
            "Epoch 00107: saving model to training_classify/cp-0107.ckpt\n",
            "80/80 [==============================] - 0s 2ms/sample - loss: 3.0547e-06 - accuracy: 1.0000 - val_loss: 4.3077 - val_accuracy: 0.6500\n",
            "Epoch 108/200\n",
            "80/80 [==============================] - 0s 336us/sample - loss: 3.0353e-06 - accuracy: 1.0000 - val_loss: 4.3078 - val_accuracy: 0.6500\n",
            "Epoch 109/200\n",
            "80/80 [==============================] - 0s 278us/sample - loss: 3.0160e-06 - accuracy: 1.0000 - val_loss: 4.3079 - val_accuracy: 0.6500\n",
            "Epoch 110/200\n",
            "80/80 [==============================] - 0s 278us/sample - loss: 2.9981e-06 - accuracy: 1.0000 - val_loss: 4.3079 - val_accuracy: 0.6500\n",
            "Epoch 111/200\n",
            "80/80 [==============================] - 0s 338us/sample - loss: 2.9802e-06 - accuracy: 1.0000 - val_loss: 4.3080 - val_accuracy: 0.6500\n",
            "Epoch 112/200\n",
            "\n",
            "Epoch 00112: saving model to training_classify/cp-0112.ckpt\n",
            "80/80 [==============================] - 0s 4ms/sample - loss: 2.9593e-06 - accuracy: 1.0000 - val_loss: 4.3081 - val_accuracy: 0.6500\n",
            "Epoch 113/200\n",
            "80/80 [==============================] - 0s 304us/sample - loss: 2.9400e-06 - accuracy: 1.0000 - val_loss: 4.3081 - val_accuracy: 0.6500\n",
            "Epoch 114/200\n",
            "80/80 [==============================] - 0s 264us/sample - loss: 2.9236e-06 - accuracy: 1.0000 - val_loss: 4.3082 - val_accuracy: 0.6500\n",
            "Epoch 115/200\n",
            "80/80 [==============================] - 0s 271us/sample - loss: 2.9012e-06 - accuracy: 1.0000 - val_loss: 4.3082 - val_accuracy: 0.6500\n",
            "Epoch 116/200\n",
            "80/80 [==============================] - 0s 504us/sample - loss: 2.8819e-06 - accuracy: 1.0000 - val_loss: 4.3083 - val_accuracy: 0.6500\n",
            "Epoch 117/200\n",
            "\n",
            "Epoch 00117: saving model to training_classify/cp-0117.ckpt\n",
            "80/80 [==============================] - 0s 3ms/sample - loss: 2.8610e-06 - accuracy: 1.0000 - val_loss: 4.3084 - val_accuracy: 0.6500\n",
            "Epoch 118/200\n",
            "80/80 [==============================] - 0s 362us/sample - loss: 2.8401e-06 - accuracy: 1.0000 - val_loss: 4.3084 - val_accuracy: 0.6500\n",
            "Epoch 119/200\n",
            "80/80 [==============================] - 0s 332us/sample - loss: 2.8237e-06 - accuracy: 1.0000 - val_loss: 4.3085 - val_accuracy: 0.6500\n",
            "Epoch 120/200\n",
            "80/80 [==============================] - 0s 284us/sample - loss: 2.8073e-06 - accuracy: 1.0000 - val_loss: 4.3086 - val_accuracy: 0.6500\n",
            "Epoch 121/200\n",
            "80/80 [==============================] - 0s 446us/sample - loss: 2.7895e-06 - accuracy: 1.0000 - val_loss: 4.3086 - val_accuracy: 0.6500\n",
            "Epoch 122/200\n",
            "\n",
            "Epoch 00122: saving model to training_classify/cp-0122.ckpt\n",
            "80/80 [==============================] - 0s 4ms/sample - loss: 2.7746e-06 - accuracy: 1.0000 - val_loss: 4.3087 - val_accuracy: 0.6500\n",
            "Epoch 123/200\n",
            "80/80 [==============================] - 0s 441us/sample - loss: 2.7582e-06 - accuracy: 1.0000 - val_loss: 4.3087 - val_accuracy: 0.6500\n",
            "Epoch 124/200\n",
            "80/80 [==============================] - 0s 319us/sample - loss: 2.7388e-06 - accuracy: 1.0000 - val_loss: 4.3088 - val_accuracy: 0.6500\n",
            "Epoch 125/200\n",
            "80/80 [==============================] - 0s 331us/sample - loss: 2.7194e-06 - accuracy: 1.0000 - val_loss: 4.3088 - val_accuracy: 0.6500\n",
            "Epoch 126/200\n",
            "80/80 [==============================] - 0s 242us/sample - loss: 2.7045e-06 - accuracy: 1.0000 - val_loss: 4.3089 - val_accuracy: 0.6500\n",
            "Epoch 127/200\n",
            "\n",
            "Epoch 00127: saving model to training_classify/cp-0127.ckpt\n",
            "80/80 [==============================] - 0s 3ms/sample - loss: 2.6867e-06 - accuracy: 1.0000 - val_loss: 4.3090 - val_accuracy: 0.6500\n",
            "Epoch 128/200\n",
            "80/80 [==============================] - 0s 369us/sample - loss: 2.6703e-06 - accuracy: 1.0000 - val_loss: 4.3090 - val_accuracy: 0.6500\n",
            "Epoch 129/200\n",
            "80/80 [==============================] - 0s 339us/sample - loss: 2.6554e-06 - accuracy: 1.0000 - val_loss: 4.3091 - val_accuracy: 0.6500\n",
            "Epoch 130/200\n",
            "80/80 [==============================] - 0s 354us/sample - loss: 2.6390e-06 - accuracy: 1.0000 - val_loss: 4.3091 - val_accuracy: 0.6500\n",
            "Epoch 131/200\n",
            "80/80 [==============================] - 0s 399us/sample - loss: 2.6226e-06 - accuracy: 1.0000 - val_loss: 4.3092 - val_accuracy: 0.6500\n",
            "Epoch 132/200\n",
            "\n",
            "Epoch 00132: saving model to training_classify/cp-0132.ckpt\n",
            "80/80 [==============================] - 1s 8ms/sample - loss: 2.6032e-06 - accuracy: 1.0000 - val_loss: 4.3093 - val_accuracy: 0.6500\n",
            "Epoch 133/200\n",
            "80/80 [==============================] - 0s 322us/sample - loss: 2.5853e-06 - accuracy: 1.0000 - val_loss: 4.3093 - val_accuracy: 0.6500\n",
            "Epoch 134/200\n",
            "80/80 [==============================] - 0s 255us/sample - loss: 2.5749e-06 - accuracy: 1.0000 - val_loss: 4.3094 - val_accuracy: 0.6500\n",
            "Epoch 135/200\n",
            "80/80 [==============================] - 0s 263us/sample - loss: 2.5600e-06 - accuracy: 1.0000 - val_loss: 4.3094 - val_accuracy: 0.6500\n",
            "Epoch 136/200\n",
            "80/80 [==============================] - 0s 267us/sample - loss: 2.5421e-06 - accuracy: 1.0000 - val_loss: 4.3095 - val_accuracy: 0.6500\n",
            "Epoch 137/200\n",
            "\n",
            "Epoch 00137: saving model to training_classify/cp-0137.ckpt\n",
            "80/80 [==============================] - 0s 2ms/sample - loss: 2.5287e-06 - accuracy: 1.0000 - val_loss: 4.3095 - val_accuracy: 0.6500\n",
            "Epoch 138/200\n",
            "80/80 [==============================] - 0s 376us/sample - loss: 2.5108e-06 - accuracy: 1.0000 - val_loss: 4.3096 - val_accuracy: 0.6500\n",
            "Epoch 139/200\n",
            "80/80 [==============================] - 0s 255us/sample - loss: 2.5004e-06 - accuracy: 1.0000 - val_loss: 4.3097 - val_accuracy: 0.6500\n",
            "Epoch 140/200\n",
            "80/80 [==============================] - 0s 275us/sample - loss: 2.4840e-06 - accuracy: 1.0000 - val_loss: 4.3097 - val_accuracy: 0.6500\n",
            "Epoch 141/200\n",
            "80/80 [==============================] - 0s 249us/sample - loss: 2.4691e-06 - accuracy: 1.0000 - val_loss: 4.3098 - val_accuracy: 0.6500\n",
            "Epoch 142/200\n",
            "\n",
            "Epoch 00142: saving model to training_classify/cp-0142.ckpt\n",
            "80/80 [==============================] - 0s 2ms/sample - loss: 2.4527e-06 - accuracy: 1.0000 - val_loss: 4.3098 - val_accuracy: 0.6500\n",
            "Epoch 143/200\n",
            "80/80 [==============================] - 0s 322us/sample - loss: 2.4393e-06 - accuracy: 1.0000 - val_loss: 4.3099 - val_accuracy: 0.6500\n",
            "Epoch 144/200\n",
            "80/80 [==============================] - 0s 298us/sample - loss: 2.4259e-06 - accuracy: 1.0000 - val_loss: 4.3099 - val_accuracy: 0.6500\n",
            "Epoch 145/200\n",
            "80/80 [==============================] - 0s 269us/sample - loss: 2.4095e-06 - accuracy: 1.0000 - val_loss: 4.3100 - val_accuracy: 0.6500\n",
            "Epoch 146/200\n",
            "80/80 [==============================] - 0s 259us/sample - loss: 2.4006e-06 - accuracy: 1.0000 - val_loss: 4.3100 - val_accuracy: 0.6500\n",
            "Epoch 147/200\n",
            "\n",
            "Epoch 00147: saving model to training_classify/cp-0147.ckpt\n",
            "80/80 [==============================] - 0s 2ms/sample - loss: 2.3857e-06 - accuracy: 1.0000 - val_loss: 4.3101 - val_accuracy: 0.6500\n",
            "Epoch 148/200\n",
            "80/80 [==============================] - 0s 313us/sample - loss: 2.3708e-06 - accuracy: 1.0000 - val_loss: 4.3102 - val_accuracy: 0.6500\n",
            "Epoch 149/200\n",
            "80/80 [==============================] - 0s 260us/sample - loss: 2.3573e-06 - accuracy: 1.0000 - val_loss: 4.3102 - val_accuracy: 0.6500\n",
            "Epoch 150/200\n",
            "80/80 [==============================] - 0s 289us/sample - loss: 2.3439e-06 - accuracy: 1.0000 - val_loss: 4.3103 - val_accuracy: 0.6500\n",
            "Epoch 151/200\n",
            "80/80 [==============================] - 0s 242us/sample - loss: 2.3290e-06 - accuracy: 1.0000 - val_loss: 4.3103 - val_accuracy: 0.6500\n",
            "Epoch 152/200\n",
            "\n",
            "Epoch 00152: saving model to training_classify/cp-0152.ckpt\n",
            "80/80 [==============================] - 0s 2ms/sample - loss: 2.3171e-06 - accuracy: 1.0000 - val_loss: 4.3104 - val_accuracy: 0.6500\n",
            "Epoch 153/200\n",
            "80/80 [==============================] - 0s 331us/sample - loss: 2.3007e-06 - accuracy: 1.0000 - val_loss: 4.3104 - val_accuracy: 0.6500\n",
            "Epoch 154/200\n",
            "80/80 [==============================] - 0s 277us/sample - loss: 2.2858e-06 - accuracy: 1.0000 - val_loss: 4.3105 - val_accuracy: 0.6500\n",
            "Epoch 155/200\n",
            "80/80 [==============================] - 0s 252us/sample - loss: 2.2769e-06 - accuracy: 1.0000 - val_loss: 4.3105 - val_accuracy: 0.6500\n",
            "Epoch 156/200\n",
            "80/80 [==============================] - 0s 240us/sample - loss: 2.2635e-06 - accuracy: 1.0000 - val_loss: 4.3106 - val_accuracy: 0.6500\n",
            "Epoch 157/200\n",
            "\n",
            "Epoch 00157: saving model to training_classify/cp-0157.ckpt\n",
            "80/80 [==============================] - 0s 3ms/sample - loss: 2.2530e-06 - accuracy: 1.0000 - val_loss: 4.3106 - val_accuracy: 0.6500\n",
            "Epoch 158/200\n",
            "80/80 [==============================] - 0s 332us/sample - loss: 2.2411e-06 - accuracy: 1.0000 - val_loss: 4.3107 - val_accuracy: 0.6500\n",
            "Epoch 159/200\n",
            "80/80 [==============================] - 0s 254us/sample - loss: 2.2232e-06 - accuracy: 1.0000 - val_loss: 4.3107 - val_accuracy: 0.6500\n",
            "Epoch 160/200\n",
            "80/80 [==============================] - 0s 277us/sample - loss: 2.2143e-06 - accuracy: 1.0000 - val_loss: 4.3108 - val_accuracy: 0.6500\n",
            "Epoch 161/200\n",
            "80/80 [==============================] - 0s 264us/sample - loss: 2.2024e-06 - accuracy: 1.0000 - val_loss: 4.3108 - val_accuracy: 0.6500\n",
            "Epoch 162/200\n",
            "\n",
            "Epoch 00162: saving model to training_classify/cp-0162.ckpt\n",
            "80/80 [==============================] - 0s 2ms/sample - loss: 2.1905e-06 - accuracy: 1.0000 - val_loss: 4.3109 - val_accuracy: 0.6500\n",
            "Epoch 163/200\n",
            "80/80 [==============================] - 0s 357us/sample - loss: 2.1815e-06 - accuracy: 1.0000 - val_loss: 4.3110 - val_accuracy: 0.6500\n",
            "Epoch 164/200\n",
            "80/80 [==============================] - 0s 325us/sample - loss: 2.1666e-06 - accuracy: 1.0000 - val_loss: 4.3110 - val_accuracy: 0.6500\n",
            "Epoch 165/200\n",
            "80/80 [==============================] - 0s 369us/sample - loss: 2.1517e-06 - accuracy: 1.0000 - val_loss: 4.3111 - val_accuracy: 0.6500\n",
            "Epoch 166/200\n",
            "80/80 [==============================] - 0s 321us/sample - loss: 2.1368e-06 - accuracy: 1.0000 - val_loss: 4.3111 - val_accuracy: 0.6500\n",
            "Epoch 167/200\n",
            "\n",
            "Epoch 00167: saving model to training_classify/cp-0167.ckpt\n",
            "80/80 [==============================] - 1s 7ms/sample - loss: 2.1294e-06 - accuracy: 1.0000 - val_loss: 4.3112 - val_accuracy: 0.6500\n",
            "Epoch 168/200\n",
            "80/80 [==============================] - 0s 370us/sample - loss: 2.1189e-06 - accuracy: 1.0000 - val_loss: 4.3112 - val_accuracy: 0.6500\n",
            "Epoch 169/200\n",
            "80/80 [==============================] - 0s 263us/sample - loss: 2.1025e-06 - accuracy: 1.0000 - val_loss: 4.3113 - val_accuracy: 0.6500\n",
            "Epoch 170/200\n",
            "80/80 [==============================] - 0s 277us/sample - loss: 2.0921e-06 - accuracy: 1.0000 - val_loss: 4.3113 - val_accuracy: 0.6500\n",
            "Epoch 171/200\n",
            "80/80 [==============================] - 0s 252us/sample - loss: 2.0787e-06 - accuracy: 1.0000 - val_loss: 4.3114 - val_accuracy: 0.6500\n",
            "Epoch 172/200\n",
            "\n",
            "Epoch 00172: saving model to training_classify/cp-0172.ckpt\n",
            "80/80 [==============================] - 0s 2ms/sample - loss: 2.0668e-06 - accuracy: 1.0000 - val_loss: 4.3114 - val_accuracy: 0.6500\n",
            "Epoch 173/200\n",
            "80/80 [==============================] - 0s 368us/sample - loss: 2.0578e-06 - accuracy: 1.0000 - val_loss: 4.3115 - val_accuracy: 0.6500\n",
            "Epoch 174/200\n",
            "80/80 [==============================] - 0s 438us/sample - loss: 2.0489e-06 - accuracy: 1.0000 - val_loss: 4.3115 - val_accuracy: 0.6500\n",
            "Epoch 175/200\n",
            "80/80 [==============================] - 0s 291us/sample - loss: 2.0355e-06 - accuracy: 1.0000 - val_loss: 4.3116 - val_accuracy: 0.6500\n",
            "Epoch 176/200\n",
            "80/80 [==============================] - 0s 261us/sample - loss: 2.0265e-06 - accuracy: 1.0000 - val_loss: 4.3116 - val_accuracy: 0.6500\n",
            "Epoch 177/200\n",
            "\n",
            "Epoch 00177: saving model to training_classify/cp-0177.ckpt\n",
            "80/80 [==============================] - 0s 3ms/sample - loss: 2.0161e-06 - accuracy: 1.0000 - val_loss: 4.3117 - val_accuracy: 0.6500\n",
            "Epoch 178/200\n",
            "80/80 [==============================] - 0s 450us/sample - loss: 2.0042e-06 - accuracy: 1.0000 - val_loss: 4.3117 - val_accuracy: 0.6500\n",
            "Epoch 179/200\n",
            "80/80 [==============================] - 0s 308us/sample - loss: 1.9938e-06 - accuracy: 1.0000 - val_loss: 4.3118 - val_accuracy: 0.6500\n",
            "Epoch 180/200\n",
            "80/80 [==============================] - 0s 380us/sample - loss: 1.9863e-06 - accuracy: 1.0000 - val_loss: 4.3118 - val_accuracy: 0.6500\n",
            "Epoch 181/200\n",
            "80/80 [==============================] - 0s 475us/sample - loss: 1.9759e-06 - accuracy: 1.0000 - val_loss: 4.3119 - val_accuracy: 0.6500\n",
            "Epoch 182/200\n",
            "\n",
            "Epoch 00182: saving model to training_classify/cp-0182.ckpt\n",
            "80/80 [==============================] - 0s 3ms/sample - loss: 1.9669e-06 - accuracy: 1.0000 - val_loss: 4.3119 - val_accuracy: 0.6500\n",
            "Epoch 183/200\n",
            "80/80 [==============================] - 0s 321us/sample - loss: 1.9565e-06 - accuracy: 1.0000 - val_loss: 4.3120 - val_accuracy: 0.6500\n",
            "Epoch 184/200\n",
            "80/80 [==============================] - 0s 454us/sample - loss: 1.9476e-06 - accuracy: 1.0000 - val_loss: 4.3120 - val_accuracy: 0.6500\n",
            "Epoch 185/200\n",
            "80/80 [==============================] - 0s 393us/sample - loss: 1.9371e-06 - accuracy: 1.0000 - val_loss: 4.3120 - val_accuracy: 0.6500\n",
            "Epoch 186/200\n",
            "80/80 [==============================] - 0s 355us/sample - loss: 1.9252e-06 - accuracy: 1.0000 - val_loss: 4.3121 - val_accuracy: 0.6500\n",
            "Epoch 187/200\n",
            "\n",
            "Epoch 00187: saving model to training_classify/cp-0187.ckpt\n",
            "80/80 [==============================] - 0s 3ms/sample - loss: 1.9163e-06 - accuracy: 1.0000 - val_loss: 4.3121 - val_accuracy: 0.6500\n",
            "Epoch 188/200\n",
            "80/80 [==============================] - 0s 492us/sample - loss: 1.9058e-06 - accuracy: 1.0000 - val_loss: 4.3122 - val_accuracy: 0.6500\n",
            "Epoch 189/200\n",
            "80/80 [==============================] - 0s 354us/sample - loss: 1.8969e-06 - accuracy: 1.0000 - val_loss: 4.3122 - val_accuracy: 0.6500\n",
            "Epoch 190/200\n",
            "80/80 [==============================] - 0s 383us/sample - loss: 1.8895e-06 - accuracy: 1.0000 - val_loss: 4.3123 - val_accuracy: 0.6500\n",
            "Epoch 191/200\n",
            "80/80 [==============================] - 0s 325us/sample - loss: 1.8805e-06 - accuracy: 1.0000 - val_loss: 4.3123 - val_accuracy: 0.6500\n",
            "Epoch 192/200\n",
            "\n",
            "Epoch 00192: saving model to training_classify/cp-0192.ckpt\n",
            "80/80 [==============================] - 1s 7ms/sample - loss: 1.8686e-06 - accuracy: 1.0000 - val_loss: 4.3124 - val_accuracy: 0.6500\n",
            "Epoch 193/200\n",
            "80/80 [==============================] - 0s 335us/sample - loss: 1.8567e-06 - accuracy: 1.0000 - val_loss: 4.3124 - val_accuracy: 0.6500\n",
            "Epoch 194/200\n",
            "80/80 [==============================] - 0s 262us/sample - loss: 1.8492e-06 - accuracy: 1.0000 - val_loss: 4.3125 - val_accuracy: 0.6500\n",
            "Epoch 195/200\n",
            "80/80 [==============================] - 0s 229us/sample - loss: 1.8433e-06 - accuracy: 1.0000 - val_loss: 4.3125 - val_accuracy: 0.6500\n",
            "Epoch 196/200\n",
            "80/80 [==============================] - 0s 252us/sample - loss: 1.8358e-06 - accuracy: 1.0000 - val_loss: 4.3126 - val_accuracy: 0.6500\n",
            "Epoch 197/200\n",
            "\n",
            "Epoch 00197: saving model to training_classify/cp-0197.ckpt\n",
            "80/80 [==============================] - 0s 2ms/sample - loss: 1.8254e-06 - accuracy: 1.0000 - val_loss: 4.3126 - val_accuracy: 0.6500\n",
            "Epoch 198/200\n",
            "80/80 [==============================] - 0s 335us/sample - loss: 1.8135e-06 - accuracy: 1.0000 - val_loss: 4.3127 - val_accuracy: 0.6500\n",
            "Epoch 199/200\n",
            "80/80 [==============================] - 0s 288us/sample - loss: 1.8060e-06 - accuracy: 1.0000 - val_loss: 4.3127 - val_accuracy: 0.6500\n",
            "Epoch 200/200\n",
            "80/80 [==============================] - 0s 250us/sample - loss: 1.7971e-06 - accuracy: 1.0000 - val_loss: 4.3127 - val_accuracy: 0.6500\n"
          ],
          "name": "stdout"
        }
      ]
    },
    {
      "cell_type": "code",
      "metadata": {
        "colab_type": "code",
        "id": "YzTjNnwXvbEi",
        "colab": {}
      },
      "source": [
        "full_model_100.save_weights('autoencoder_100_classification.h5')"
      ],
      "execution_count": 0,
      "outputs": []
    }
  ]
}